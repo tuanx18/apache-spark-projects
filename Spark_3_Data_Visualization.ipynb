{
  "nbformat": 4,
  "nbformat_minor": 0,
  "metadata": {
    "colab": {
      "provenance": []
    },
    "kernelspec": {
      "name": "python3",
      "display_name": "Python 3"
    },
    "language_info": {
      "name": "python"
    }
  },
  "cells": [
    {
      "cell_type": "code",
      "source": [
        "from google.colab import drive\n",
        "\n",
        "# Mount Google Drive\n",
        "drive.mount('/content/drive')"
      ],
      "metadata": {
        "colab": {
          "base_uri": "https://localhost:8080/"
        },
        "id": "gAH2ek7DPiEZ",
        "outputId": "84103bbb-451d-4c89-804c-beabcc6f5f10"
      },
      "execution_count": null,
      "outputs": [
        {
          "output_type": "stream",
          "name": "stdout",
          "text": [
            "Mounted at /content/drive\n"
          ]
        }
      ]
    },
    {
      "cell_type": "markdown",
      "source": [
        "## Install Pyspark"
      ],
      "metadata": {
        "id": "PZ1GSkFrC0Rq"
      }
    },
    {
      "cell_type": "code",
      "source": [
        "!pip install pyspark"
      ],
      "metadata": {
        "colab": {
          "base_uri": "https://localhost:8080/"
        },
        "id": "vwtqGqEHA5BR",
        "outputId": "b7c9c0e4-d246-4dd9-c2ae-649c787efe75"
      },
      "execution_count": null,
      "outputs": [
        {
          "output_type": "stream",
          "name": "stdout",
          "text": [
            "Collecting pyspark\n",
            "  Downloading pyspark-3.5.0.tar.gz (316.9 MB)\n",
            "\u001b[2K     \u001b[90m━━━━━━━━━━━━━━━━━━━━━━━━━━━━━━━━━━━━━━━━\u001b[0m \u001b[32m316.9/316.9 MB\u001b[0m \u001b[31m2.2 MB/s\u001b[0m eta \u001b[36m0:00:00\u001b[0m\n",
            "\u001b[?25h  Preparing metadata (setup.py) ... \u001b[?25l\u001b[?25hdone\n",
            "Requirement already satisfied: py4j==0.10.9.7 in /usr/local/lib/python3.10/dist-packages (from pyspark) (0.10.9.7)\n",
            "Building wheels for collected packages: pyspark\n",
            "  Building wheel for pyspark (setup.py) ... \u001b[?25l\u001b[?25hdone\n",
            "  Created wheel for pyspark: filename=pyspark-3.5.0-py2.py3-none-any.whl size=317425344 sha256=77b54a32a3a842023bf8e9d22608928be25911103f2f0599449b0c5ac89ee9a7\n",
            "  Stored in directory: /root/.cache/pip/wheels/41/4e/10/c2cf2467f71c678cfc8a6b9ac9241e5e44a01940da8fbb17fc\n",
            "Successfully built pyspark\n",
            "Installing collected packages: pyspark\n",
            "Successfully installed pyspark-3.5.0\n"
          ]
        }
      ]
    },
    {
      "cell_type": "markdown",
      "source": [
        "## Set up the environment for SparkSession and SparkContext"
      ],
      "metadata": {
        "id": "Ju_2N44nC6dw"
      }
    },
    {
      "cell_type": "code",
      "execution_count": null,
      "metadata": {
        "id": "MxKoYH8h_6Xf"
      },
      "outputs": [],
      "source": [
        "from pyspark import SparkContext"
      ]
    },
    {
      "cell_type": "code",
      "source": [
        "from pyspark.sql import SparkSession\n",
        "\n",
        "# Create a SparkSession\n",
        "spark = SparkSession.builder.appName(\"PySpark1\").getOrCreate()\n",
        "\n",
        "# Get the SparkContext from the SparkSession\n",
        "sc = spark.sparkContext"
      ],
      "metadata": {
        "id": "U0XuCGI8Bujo"
      },
      "execution_count": null,
      "outputs": []
    },
    {
      "cell_type": "code",
      "source": [
        "# Spark version\n",
        "sc.version"
      ],
      "metadata": {
        "colab": {
          "base_uri": "https://localhost:8080/",
          "height": 36
        },
        "id": "168tRDLwAcsA",
        "outputId": "a748c8bc-d99b-4e27-8f82-5f92e961f00e"
      },
      "execution_count": null,
      "outputs": [
        {
          "output_type": "execute_result",
          "data": {
            "text/plain": [
              "'3.5.0'"
            ],
            "application/vnd.google.colaboratory.intrinsic+json": {
              "type": "string"
            }
          },
          "metadata": {},
          "execution_count": 5
        }
      ]
    },
    {
      "cell_type": "code",
      "source": [
        "# PySpark version\n",
        "sc.pythonVer"
      ],
      "metadata": {
        "colab": {
          "base_uri": "https://localhost:8080/",
          "height": 36
        },
        "id": "QfvS-n_fBP3v",
        "outputId": "823fa407-126c-497a-e628-910c17d084e1"
      },
      "execution_count": null,
      "outputs": [
        {
          "output_type": "execute_result",
          "data": {
            "text/plain": [
              "'3.10'"
            ],
            "application/vnd.google.colaboratory.intrinsic+json": {
              "type": "string"
            }
          },
          "metadata": {},
          "execution_count": 6
        }
      ]
    },
    {
      "cell_type": "code",
      "source": [
        "# Master location\n",
        "sc.master"
      ],
      "metadata": {
        "colab": {
          "base_uri": "https://localhost:8080/",
          "height": 36
        },
        "id": "RKpoDO6dDIM4",
        "outputId": "98c129a6-6015-4384-d81c-c469ec510d61"
      },
      "execution_count": null,
      "outputs": [
        {
          "output_type": "execute_result",
          "data": {
            "text/plain": [
              "'local[*]'"
            ],
            "application/vnd.google.colaboratory.intrinsic+json": {
              "type": "string"
            }
          },
          "metadata": {},
          "execution_count": 7
        }
      ]
    },
    {
      "cell_type": "markdown",
      "source": [
        "Currently, the SparkSession is running in local (it can be either **Local** or Cluster)"
      ],
      "metadata": {
        "id": "PjirV_XeDLqo"
      }
    },
    {
      "cell_type": "markdown",
      "source": [
        "#### Create a dataframe using CSV/JSON/TXT file"
      ],
      "metadata": {
        "id": "aZNU4cTFOOCY"
      }
    },
    {
      "cell_type": "code",
      "source": [
        "file_path = '/content/drive/My Drive/Research Data/Insect_PT.csv'\n",
        "insect_df = spark.read.csv(file_path, header=True, inferSchema=True)"
      ],
      "metadata": {
        "id": "fhmOb75yOANn"
      },
      "execution_count": null,
      "outputs": []
    },
    {
      "cell_type": "code",
      "source": [
        "insect_df.printSchema()"
      ],
      "metadata": {
        "id": "OcmtIuQ9TFTQ",
        "colab": {
          "base_uri": "https://localhost:8080/"
        },
        "outputId": "dc4496c8-c2f1-4006-c3b2-6ca99a5d4cd4"
      },
      "execution_count": null,
      "outputs": [
        {
          "output_type": "stream",
          "name": "stdout",
          "text": [
            "root\n",
            " |-- insectID: integer (nullable = true)\n",
            " |-- insect_name: string (nullable = true)\n",
            " |-- price: integer (nullable = true)\n",
            " |-- crown: integer (nullable = true)\n",
            " |-- location: string (nullable = true)\n",
            " |-- date_caught: string (nullable = true)\n",
            " |-- pole: string (nullable = true)\n",
            "\n"
          ]
        }
      ]
    },
    {
      "cell_type": "code",
      "source": [
        "insect_df.take(6)"
      ],
      "metadata": {
        "id": "J_iaC2zlOrYY",
        "colab": {
          "base_uri": "https://localhost:8080/"
        },
        "outputId": "6607943d-52bb-43e3-fa74-fcc50448b48a"
      },
      "execution_count": null,
      "outputs": [
        {
          "output_type": "execute_result",
          "data": {
            "text/plain": [
              "[Row(insectID=1, insect_name='nhen thay ma', price=30, crown=None, location='plaza', date_caught='10/17/2023 12:12', pole='DARK'),\n",
              " Row(insectID=2, insect_name='buom trang', price=68, crown=None, location='plaza', date_caught='10/17/2023 12:12', pole='DARK'),\n",
              " Row(insectID=3, insect_name='hop tien sao', price=100, crown=None, location='camp', date_caught='10/17/2023 14:42', pole='DARK'),\n",
              " Row(insectID=4, insect_name='bo hung thay ma', price=62, crown=None, location='camp', date_caught='10/17/2023 14:48', pole='DARK'),\n",
              " Row(insectID=5, insect_name='ran', price=20, crown=None, location='camp', date_caught='10/17/2023 14:48', pole='DARK'),\n",
              " Row(insectID=6, insect_name='buom vang', price=51, crown=1, location='camp', date_caught='10/17/2023 14:49', pole='DARK')]"
            ]
          },
          "metadata": {},
          "execution_count": 10
        }
      ]
    },
    {
      "cell_type": "markdown",
      "source": [
        "## Data Visualization"
      ],
      "metadata": {
        "id": "CZXlbsghr1G1"
      }
    },
    {
      "cell_type": "markdown",
      "source": [
        "### Simple visualization Pyspark"
      ],
      "metadata": {
        "id": "utUZDZE9Pq14"
      }
    },
    {
      "cell_type": "markdown",
      "source": [
        "#### Install **pyspark-dist-explore** - a chart visualization library for Spark"
      ],
      "metadata": {
        "id": "--wwC6jfDbua"
      }
    },
    {
      "cell_type": "code",
      "source": [
        "!pip install pyspark-dist-explore\n",
        "from pyspark_dist_explore import Histogram, hist"
      ],
      "metadata": {
        "colab": {
          "base_uri": "https://localhost:8080/"
        },
        "id": "IFYVpG5hDPMP",
        "outputId": "7f0b636d-9d3b-4859-c3b2-6b95ae727ec0"
      },
      "execution_count": null,
      "outputs": [
        {
          "output_type": "stream",
          "name": "stdout",
          "text": [
            "Collecting pyspark-dist-explore\n",
            "  Downloading pyspark_dist_explore-0.1.8-py3-none-any.whl (7.2 kB)\n",
            "Requirement already satisfied: pandas in /usr/local/lib/python3.10/dist-packages (from pyspark-dist-explore) (1.5.3)\n",
            "Requirement already satisfied: numpy in /usr/local/lib/python3.10/dist-packages (from pyspark-dist-explore) (1.23.5)\n",
            "Requirement already satisfied: scipy in /usr/local/lib/python3.10/dist-packages (from pyspark-dist-explore) (1.11.3)\n",
            "Requirement already satisfied: matplotlib in /usr/local/lib/python3.10/dist-packages (from pyspark-dist-explore) (3.7.1)\n",
            "Requirement already satisfied: contourpy>=1.0.1 in /usr/local/lib/python3.10/dist-packages (from matplotlib->pyspark-dist-explore) (1.2.0)\n",
            "Requirement already satisfied: cycler>=0.10 in /usr/local/lib/python3.10/dist-packages (from matplotlib->pyspark-dist-explore) (0.12.1)\n",
            "Requirement already satisfied: fonttools>=4.22.0 in /usr/local/lib/python3.10/dist-packages (from matplotlib->pyspark-dist-explore) (4.44.3)\n",
            "Requirement already satisfied: kiwisolver>=1.0.1 in /usr/local/lib/python3.10/dist-packages (from matplotlib->pyspark-dist-explore) (1.4.5)\n",
            "Requirement already satisfied: packaging>=20.0 in /usr/local/lib/python3.10/dist-packages (from matplotlib->pyspark-dist-explore) (23.2)\n",
            "Requirement already satisfied: pillow>=6.2.0 in /usr/local/lib/python3.10/dist-packages (from matplotlib->pyspark-dist-explore) (9.4.0)\n",
            "Requirement already satisfied: pyparsing>=2.3.1 in /usr/local/lib/python3.10/dist-packages (from matplotlib->pyspark-dist-explore) (3.1.1)\n",
            "Requirement already satisfied: python-dateutil>=2.7 in /usr/local/lib/python3.10/dist-packages (from matplotlib->pyspark-dist-explore) (2.8.2)\n",
            "Requirement already satisfied: pytz>=2020.1 in /usr/local/lib/python3.10/dist-packages (from pandas->pyspark-dist-explore) (2023.3.post1)\n",
            "Requirement already satisfied: six>=1.5 in /usr/local/lib/python3.10/dist-packages (from python-dateutil>=2.7->matplotlib->pyspark-dist-explore) (1.16.0)\n",
            "Installing collected packages: pyspark-dist-explore\n",
            "Successfully installed pyspark-dist-explore-0.1.8\n"
          ]
        }
      ]
    },
    {
      "cell_type": "markdown",
      "source": [
        "#### hist() - histogram"
      ],
      "metadata": {
        "id": "jaQ7EpGhGPGW"
      }
    },
    {
      "cell_type": "code",
      "source": [
        "insect_df_price = insect_df.select('price')\n"
      ],
      "metadata": {
        "id": "hJnq5emfryY8"
      },
      "execution_count": null,
      "outputs": []
    },
    {
      "cell_type": "code",
      "source": [],
      "metadata": {
        "colab": {
          "base_uri": "https://localhost:8080/",
          "height": 175
        },
        "id": "GX5MgEh_C2NK",
        "outputId": "00311cc9-9a1a-4ca4-9481-3fece2177087"
      },
      "execution_count": null,
      "outputs": [
        {
          "output_type": "error",
          "ename": "TypeError",
          "evalue": "ignored",
          "traceback": [
            "\u001b[0;31m---------------------------------------------------------------------------\u001b[0m",
            "\u001b[0;31mTypeError\u001b[0m                                 Traceback (most recent call last)",
            "\u001b[0;32m<ipython-input-24-e95008d42cb8>\u001b[0m in \u001b[0;36m<cell line: 1>\u001b[0;34m()\u001b[0m\n\u001b[0;32m----> 1\u001b[0;31m \u001b[0mhistogram\u001b[0m \u001b[0;34m=\u001b[0m \u001b[0mHistogram\u001b[0m\u001b[0;34m(\u001b[0m\u001b[0minsect_prices\u001b[0m\u001b[0;34m,\u001b[0m \u001b[0mbins\u001b[0m\u001b[0;34m=\u001b[0m\u001b[0;36m20\u001b[0m\u001b[0;34m)\u001b[0m\u001b[0;34m\u001b[0m\u001b[0;34m\u001b[0m\u001b[0m\n\u001b[0m",
            "\u001b[0;31mTypeError\u001b[0m: Histogram.__init__() got multiple values for argument 'bins'"
          ]
        }
      ]
    },
    {
      "cell_type": "code",
      "source": [],
      "metadata": {
        "colab": {
          "base_uri": "https://localhost:8080/",
          "height": 175
        },
        "id": "Cdt35PGKFWUt",
        "outputId": "26a15941-bfaf-46d5-b234-efa1adb4c83a"
      },
      "execution_count": null,
      "outputs": [
        {
          "output_type": "error",
          "ename": "NameError",
          "evalue": "ignored",
          "traceback": [
            "\u001b[0;31m---------------------------------------------------------------------------\u001b[0m",
            "\u001b[0;31mNameError\u001b[0m                                 Traceback (most recent call last)",
            "\u001b[0;32m<ipython-input-23-710b6ec1f99f>\u001b[0m in \u001b[0;36m<cell line: 1>\u001b[0;34m()\u001b[0m\n\u001b[0;32m----> 1\u001b[0;31m \u001b[0mhistogram\u001b[0m\u001b[0;34m.\u001b[0m\u001b[0mplot\u001b[0m\u001b[0;34m(\u001b[0m\u001b[0;34m)\u001b[0m\u001b[0;34m\u001b[0m\u001b[0;34m\u001b[0m\u001b[0m\n\u001b[0m",
            "\u001b[0;31mNameError\u001b[0m: name 'histogram' is not defined"
          ]
        }
      ]
    },
    {
      "cell_type": "markdown",
      "source": [
        "#### toPandas() – convert **spark** dataframe to **pandas** dataframe"
      ],
      "metadata": {
        "id": "r_VlAZCVGTye"
      }
    },
    {
      "cell_type": "code",
      "source": [
        "# Spark DataFrame format\n",
        "insect_df.show()"
      ],
      "metadata": {
        "colab": {
          "base_uri": "https://localhost:8080/"
        },
        "id": "x3NQ-BfhFyCQ",
        "outputId": "d8a39bda-460f-4c58-f7ba-d27d8d9f0b98"
      },
      "execution_count": null,
      "outputs": [
        {
          "output_type": "stream",
          "name": "stdout",
          "text": [
            "+--------+--------------------+-----+-----+--------+----------------+----+\n",
            "|insectID|         insect_name|price|crown|location|     date_caught|pole|\n",
            "+--------+--------------------+-----+-----+--------+----------------+----+\n",
            "|       1|        nhen thay ma|   30| NULL|   plaza|10/17/2023 12:12|DARK|\n",
            "|       2|          buom trang|   68| NULL|   plaza|10/17/2023 12:12|DARK|\n",
            "|       3|        hop tien sao|  100| NULL|    camp|10/17/2023 14:42|DARK|\n",
            "|       4|     bo hung thay ma|   62| NULL|    camp|10/17/2023 14:48|DARK|\n",
            "|       5|                 ran|   20| NULL|    camp|10/17/2023 14:48|DARK|\n",
            "|       6|           buom vang|   51|    1|    camp|10/17/2023 14:49|DARK|\n",
            "|       7|           buom vang|   26| NULL|    camp|10/17/2023 14:49|DARK|\n",
            "|       8|              ve sau|   64| NULL|    camp|10/17/2023 14:49|DARK|\n",
            "|       9|chuon chuon duoi ...|   60| NULL|    camp|10/17/2023 14:49|DARK|\n",
            "|      10|          buom trang|   69| NULL|    camp|10/17/2023 14:49|DARK|\n",
            "|      11|          ve sau dau|   61| NULL|    camp|10/17/2023 14:50|DARK|\n",
            "|      12|                 ran|   20| NULL|    camp|10/17/2023 14:50|DARK|\n",
            "|      13|      oc sen thay ma|   27| NULL|    camp|10/17/2023 14:51|DARK|\n",
            "|      14|           chau chau|   70| NULL|hometown|10/17/2023 14:51|DARK|\n",
            "|      15|           buom vang|   22| NULL|hometown|10/17/2023 14:51|DARK|\n",
            "|      16|chuon chuon duoi ...|   62| NULL|hometown|10/17/2023 14:52|DARK|\n",
            "|      17|      chuon chuon ot|  126|    1|hometown|10/17/2023 14:52|DARK|\n",
            "|      18|      chuon chuon ot|   61| NULL|hometown|10/17/2023 14:53|DARK|\n",
            "|      19|             cao cao|  131|    1|hometown|10/17/2023 14:53|DARK|\n",
            "|      20|                 ong|   21| NULL|hometown|10/17/2023 14:53|DARK|\n",
            "+--------+--------------------+-----+-----+--------+----------------+----+\n",
            "only showing top 20 rows\n",
            "\n"
          ]
        }
      ]
    },
    {
      "cell_type": "code",
      "source": [
        "# Pandas DataFrame format\n",
        "insect_pandas = insect_df.toPandas()\n",
        "insect_pandas"
      ],
      "metadata": {
        "colab": {
          "base_uri": "https://localhost:8080/",
          "height": 423
        },
        "id": "Scj8DevCGhnG",
        "outputId": "32828ecc-b421-4bf5-b988-c0726774a048"
      },
      "execution_count": null,
      "outputs": [
        {
          "output_type": "execute_result",
          "data": {
            "text/plain": [
              "      insectID       insect_name  price  crown location       date_caught  \\\n",
              "0            1      nhen thay ma     30    NaN    plaza  10/17/2023 12:12   \n",
              "1            2        buom trang     68    NaN    plaza  10/17/2023 12:12   \n",
              "2            3      hop tien sao    100    NaN     camp  10/17/2023 14:42   \n",
              "3            4   bo hung thay ma     62    NaN     camp  10/17/2023 14:48   \n",
              "4            5               ran     20    NaN     camp  10/17/2023 14:48   \n",
              "...        ...               ...    ...    ...      ...               ...   \n",
              "4480      4482                de     63    NaN     camp  11/27/2023 19:25   \n",
              "4481      4483        buom trang    127    1.0     camp  11/27/2023 19:26   \n",
              "4482      4484  buom vua cam lon    125    1.0     camp  11/27/2023 19:26   \n",
              "4483      4485            oc sen     28    NaN     camp  11/27/2023 19:26   \n",
              "4484      4486          rong rau    127    NaN     camp  11/27/2023 19:27   \n",
              "\n",
              "      pole  \n",
              "0     DARK  \n",
              "1     DARK  \n",
              "2     DARK  \n",
              "3     DARK  \n",
              "4     DARK  \n",
              "...    ...  \n",
              "4480  None  \n",
              "4481  None  \n",
              "4482  None  \n",
              "4483  None  \n",
              "4484  None  \n",
              "\n",
              "[4485 rows x 7 columns]"
            ],
            "text/html": [
              "\n",
              "  <div id=\"df-876271f6-dbaa-48e1-bc29-38380c02cad9\" class=\"colab-df-container\">\n",
              "    <div>\n",
              "<style scoped>\n",
              "    .dataframe tbody tr th:only-of-type {\n",
              "        vertical-align: middle;\n",
              "    }\n",
              "\n",
              "    .dataframe tbody tr th {\n",
              "        vertical-align: top;\n",
              "    }\n",
              "\n",
              "    .dataframe thead th {\n",
              "        text-align: right;\n",
              "    }\n",
              "</style>\n",
              "<table border=\"1\" class=\"dataframe\">\n",
              "  <thead>\n",
              "    <tr style=\"text-align: right;\">\n",
              "      <th></th>\n",
              "      <th>insectID</th>\n",
              "      <th>insect_name</th>\n",
              "      <th>price</th>\n",
              "      <th>crown</th>\n",
              "      <th>location</th>\n",
              "      <th>date_caught</th>\n",
              "      <th>pole</th>\n",
              "    </tr>\n",
              "  </thead>\n",
              "  <tbody>\n",
              "    <tr>\n",
              "      <th>0</th>\n",
              "      <td>1</td>\n",
              "      <td>nhen thay ma</td>\n",
              "      <td>30</td>\n",
              "      <td>NaN</td>\n",
              "      <td>plaza</td>\n",
              "      <td>10/17/2023 12:12</td>\n",
              "      <td>DARK</td>\n",
              "    </tr>\n",
              "    <tr>\n",
              "      <th>1</th>\n",
              "      <td>2</td>\n",
              "      <td>buom trang</td>\n",
              "      <td>68</td>\n",
              "      <td>NaN</td>\n",
              "      <td>plaza</td>\n",
              "      <td>10/17/2023 12:12</td>\n",
              "      <td>DARK</td>\n",
              "    </tr>\n",
              "    <tr>\n",
              "      <th>2</th>\n",
              "      <td>3</td>\n",
              "      <td>hop tien sao</td>\n",
              "      <td>100</td>\n",
              "      <td>NaN</td>\n",
              "      <td>camp</td>\n",
              "      <td>10/17/2023 14:42</td>\n",
              "      <td>DARK</td>\n",
              "    </tr>\n",
              "    <tr>\n",
              "      <th>3</th>\n",
              "      <td>4</td>\n",
              "      <td>bo hung thay ma</td>\n",
              "      <td>62</td>\n",
              "      <td>NaN</td>\n",
              "      <td>camp</td>\n",
              "      <td>10/17/2023 14:48</td>\n",
              "      <td>DARK</td>\n",
              "    </tr>\n",
              "    <tr>\n",
              "      <th>4</th>\n",
              "      <td>5</td>\n",
              "      <td>ran</td>\n",
              "      <td>20</td>\n",
              "      <td>NaN</td>\n",
              "      <td>camp</td>\n",
              "      <td>10/17/2023 14:48</td>\n",
              "      <td>DARK</td>\n",
              "    </tr>\n",
              "    <tr>\n",
              "      <th>...</th>\n",
              "      <td>...</td>\n",
              "      <td>...</td>\n",
              "      <td>...</td>\n",
              "      <td>...</td>\n",
              "      <td>...</td>\n",
              "      <td>...</td>\n",
              "      <td>...</td>\n",
              "    </tr>\n",
              "    <tr>\n",
              "      <th>4480</th>\n",
              "      <td>4482</td>\n",
              "      <td>de</td>\n",
              "      <td>63</td>\n",
              "      <td>NaN</td>\n",
              "      <td>camp</td>\n",
              "      <td>11/27/2023 19:25</td>\n",
              "      <td>None</td>\n",
              "    </tr>\n",
              "    <tr>\n",
              "      <th>4481</th>\n",
              "      <td>4483</td>\n",
              "      <td>buom trang</td>\n",
              "      <td>127</td>\n",
              "      <td>1.0</td>\n",
              "      <td>camp</td>\n",
              "      <td>11/27/2023 19:26</td>\n",
              "      <td>None</td>\n",
              "    </tr>\n",
              "    <tr>\n",
              "      <th>4482</th>\n",
              "      <td>4484</td>\n",
              "      <td>buom vua cam lon</td>\n",
              "      <td>125</td>\n",
              "      <td>1.0</td>\n",
              "      <td>camp</td>\n",
              "      <td>11/27/2023 19:26</td>\n",
              "      <td>None</td>\n",
              "    </tr>\n",
              "    <tr>\n",
              "      <th>4483</th>\n",
              "      <td>4485</td>\n",
              "      <td>oc sen</td>\n",
              "      <td>28</td>\n",
              "      <td>NaN</td>\n",
              "      <td>camp</td>\n",
              "      <td>11/27/2023 19:26</td>\n",
              "      <td>None</td>\n",
              "    </tr>\n",
              "    <tr>\n",
              "      <th>4484</th>\n",
              "      <td>4486</td>\n",
              "      <td>rong rau</td>\n",
              "      <td>127</td>\n",
              "      <td>NaN</td>\n",
              "      <td>camp</td>\n",
              "      <td>11/27/2023 19:27</td>\n",
              "      <td>None</td>\n",
              "    </tr>\n",
              "  </tbody>\n",
              "</table>\n",
              "<p>4485 rows × 7 columns</p>\n",
              "</div>\n",
              "    <div class=\"colab-df-buttons\">\n",
              "\n",
              "  <div class=\"colab-df-container\">\n",
              "    <button class=\"colab-df-convert\" onclick=\"convertToInteractive('df-876271f6-dbaa-48e1-bc29-38380c02cad9')\"\n",
              "            title=\"Convert this dataframe to an interactive table.\"\n",
              "            style=\"display:none;\">\n",
              "\n",
              "  <svg xmlns=\"http://www.w3.org/2000/svg\" height=\"24px\" viewBox=\"0 -960 960 960\">\n",
              "    <path d=\"M120-120v-720h720v720H120Zm60-500h600v-160H180v160Zm220 220h160v-160H400v160Zm0 220h160v-160H400v160ZM180-400h160v-160H180v160Zm440 0h160v-160H620v160ZM180-180h160v-160H180v160Zm440 0h160v-160H620v160Z\"/>\n",
              "  </svg>\n",
              "    </button>\n",
              "\n",
              "  <style>\n",
              "    .colab-df-container {\n",
              "      display:flex;\n",
              "      gap: 12px;\n",
              "    }\n",
              "\n",
              "    .colab-df-convert {\n",
              "      background-color: #E8F0FE;\n",
              "      border: none;\n",
              "      border-radius: 50%;\n",
              "      cursor: pointer;\n",
              "      display: none;\n",
              "      fill: #1967D2;\n",
              "      height: 32px;\n",
              "      padding: 0 0 0 0;\n",
              "      width: 32px;\n",
              "    }\n",
              "\n",
              "    .colab-df-convert:hover {\n",
              "      background-color: #E2EBFA;\n",
              "      box-shadow: 0px 1px 2px rgba(60, 64, 67, 0.3), 0px 1px 3px 1px rgba(60, 64, 67, 0.15);\n",
              "      fill: #174EA6;\n",
              "    }\n",
              "\n",
              "    .colab-df-buttons div {\n",
              "      margin-bottom: 4px;\n",
              "    }\n",
              "\n",
              "    [theme=dark] .colab-df-convert {\n",
              "      background-color: #3B4455;\n",
              "      fill: #D2E3FC;\n",
              "    }\n",
              "\n",
              "    [theme=dark] .colab-df-convert:hover {\n",
              "      background-color: #434B5C;\n",
              "      box-shadow: 0px 1px 3px 1px rgba(0, 0, 0, 0.15);\n",
              "      filter: drop-shadow(0px 1px 2px rgba(0, 0, 0, 0.3));\n",
              "      fill: #FFFFFF;\n",
              "    }\n",
              "  </style>\n",
              "\n",
              "    <script>\n",
              "      const buttonEl =\n",
              "        document.querySelector('#df-876271f6-dbaa-48e1-bc29-38380c02cad9 button.colab-df-convert');\n",
              "      buttonEl.style.display =\n",
              "        google.colab.kernel.accessAllowed ? 'block' : 'none';\n",
              "\n",
              "      async function convertToInteractive(key) {\n",
              "        const element = document.querySelector('#df-876271f6-dbaa-48e1-bc29-38380c02cad9');\n",
              "        const dataTable =\n",
              "          await google.colab.kernel.invokeFunction('convertToInteractive',\n",
              "                                                    [key], {});\n",
              "        if (!dataTable) return;\n",
              "\n",
              "        const docLinkHtml = 'Like what you see? Visit the ' +\n",
              "          '<a target=\"_blank\" href=https://colab.research.google.com/notebooks/data_table.ipynb>data table notebook</a>'\n",
              "          + ' to learn more about interactive tables.';\n",
              "        element.innerHTML = '';\n",
              "        dataTable['output_type'] = 'display_data';\n",
              "        await google.colab.output.renderOutput(dataTable, element);\n",
              "        const docLink = document.createElement('div');\n",
              "        docLink.innerHTML = docLinkHtml;\n",
              "        element.appendChild(docLink);\n",
              "      }\n",
              "    </script>\n",
              "  </div>\n",
              "\n",
              "\n",
              "<div id=\"df-4c02538e-4755-4826-8e94-415fc51ea220\">\n",
              "  <button class=\"colab-df-quickchart\" onclick=\"quickchart('df-4c02538e-4755-4826-8e94-415fc51ea220')\"\n",
              "            title=\"Suggest charts\"\n",
              "            style=\"display:none;\">\n",
              "\n",
              "<svg xmlns=\"http://www.w3.org/2000/svg\" height=\"24px\"viewBox=\"0 0 24 24\"\n",
              "     width=\"24px\">\n",
              "    <g>\n",
              "        <path d=\"M19 3H5c-1.1 0-2 .9-2 2v14c0 1.1.9 2 2 2h14c1.1 0 2-.9 2-2V5c0-1.1-.9-2-2-2zM9 17H7v-7h2v7zm4 0h-2V7h2v10zm4 0h-2v-4h2v4z\"/>\n",
              "    </g>\n",
              "</svg>\n",
              "  </button>\n",
              "\n",
              "<style>\n",
              "  .colab-df-quickchart {\n",
              "      --bg-color: #E8F0FE;\n",
              "      --fill-color: #1967D2;\n",
              "      --hover-bg-color: #E2EBFA;\n",
              "      --hover-fill-color: #174EA6;\n",
              "      --disabled-fill-color: #AAA;\n",
              "      --disabled-bg-color: #DDD;\n",
              "  }\n",
              "\n",
              "  [theme=dark] .colab-df-quickchart {\n",
              "      --bg-color: #3B4455;\n",
              "      --fill-color: #D2E3FC;\n",
              "      --hover-bg-color: #434B5C;\n",
              "      --hover-fill-color: #FFFFFF;\n",
              "      --disabled-bg-color: #3B4455;\n",
              "      --disabled-fill-color: #666;\n",
              "  }\n",
              "\n",
              "  .colab-df-quickchart {\n",
              "    background-color: var(--bg-color);\n",
              "    border: none;\n",
              "    border-radius: 50%;\n",
              "    cursor: pointer;\n",
              "    display: none;\n",
              "    fill: var(--fill-color);\n",
              "    height: 32px;\n",
              "    padding: 0;\n",
              "    width: 32px;\n",
              "  }\n",
              "\n",
              "  .colab-df-quickchart:hover {\n",
              "    background-color: var(--hover-bg-color);\n",
              "    box-shadow: 0 1px 2px rgba(60, 64, 67, 0.3), 0 1px 3px 1px rgba(60, 64, 67, 0.15);\n",
              "    fill: var(--button-hover-fill-color);\n",
              "  }\n",
              "\n",
              "  .colab-df-quickchart-complete:disabled,\n",
              "  .colab-df-quickchart-complete:disabled:hover {\n",
              "    background-color: var(--disabled-bg-color);\n",
              "    fill: var(--disabled-fill-color);\n",
              "    box-shadow: none;\n",
              "  }\n",
              "\n",
              "  .colab-df-spinner {\n",
              "    border: 2px solid var(--fill-color);\n",
              "    border-color: transparent;\n",
              "    border-bottom-color: var(--fill-color);\n",
              "    animation:\n",
              "      spin 1s steps(1) infinite;\n",
              "  }\n",
              "\n",
              "  @keyframes spin {\n",
              "    0% {\n",
              "      border-color: transparent;\n",
              "      border-bottom-color: var(--fill-color);\n",
              "      border-left-color: var(--fill-color);\n",
              "    }\n",
              "    20% {\n",
              "      border-color: transparent;\n",
              "      border-left-color: var(--fill-color);\n",
              "      border-top-color: var(--fill-color);\n",
              "    }\n",
              "    30% {\n",
              "      border-color: transparent;\n",
              "      border-left-color: var(--fill-color);\n",
              "      border-top-color: var(--fill-color);\n",
              "      border-right-color: var(--fill-color);\n",
              "    }\n",
              "    40% {\n",
              "      border-color: transparent;\n",
              "      border-right-color: var(--fill-color);\n",
              "      border-top-color: var(--fill-color);\n",
              "    }\n",
              "    60% {\n",
              "      border-color: transparent;\n",
              "      border-right-color: var(--fill-color);\n",
              "    }\n",
              "    80% {\n",
              "      border-color: transparent;\n",
              "      border-right-color: var(--fill-color);\n",
              "      border-bottom-color: var(--fill-color);\n",
              "    }\n",
              "    90% {\n",
              "      border-color: transparent;\n",
              "      border-bottom-color: var(--fill-color);\n",
              "    }\n",
              "  }\n",
              "</style>\n",
              "\n",
              "  <script>\n",
              "    async function quickchart(key) {\n",
              "      const quickchartButtonEl =\n",
              "        document.querySelector('#' + key + ' button');\n",
              "      quickchartButtonEl.disabled = true;  // To prevent multiple clicks.\n",
              "      quickchartButtonEl.classList.add('colab-df-spinner');\n",
              "      try {\n",
              "        const charts = await google.colab.kernel.invokeFunction(\n",
              "            'suggestCharts', [key], {});\n",
              "      } catch (error) {\n",
              "        console.error('Error during call to suggestCharts:', error);\n",
              "      }\n",
              "      quickchartButtonEl.classList.remove('colab-df-spinner');\n",
              "      quickchartButtonEl.classList.add('colab-df-quickchart-complete');\n",
              "    }\n",
              "    (() => {\n",
              "      let quickchartButtonEl =\n",
              "        document.querySelector('#df-4c02538e-4755-4826-8e94-415fc51ea220 button');\n",
              "      quickchartButtonEl.style.display =\n",
              "        google.colab.kernel.accessAllowed ? 'block' : 'none';\n",
              "    })();\n",
              "  </script>\n",
              "</div>\n",
              "    </div>\n",
              "  </div>\n"
            ]
          },
          "metadata": {},
          "execution_count": 27
        }
      ]
    },
    {
      "cell_type": "code",
      "source": [
        "insect_pandas.hist('price')"
      ],
      "metadata": {
        "colab": {
          "base_uri": "https://localhost:8080/",
          "height": 469
        },
        "id": "T8sP2X2IGuvW",
        "outputId": "a03c7523-ba16-4745-d072-b0747efb2f0d"
      },
      "execution_count": null,
      "outputs": [
        {
          "output_type": "execute_result",
          "data": {
            "text/plain": [
              "array([[<Axes: title={'center': 'price'}>]], dtype=object)"
            ]
          },
          "metadata": {},
          "execution_count": 28
        },
        {
          "output_type": "display_data",
          "data": {
            "text/plain": [
              "<Figure size 640x480 with 1 Axes>"
            ],
            "image/png": "[encoded data removed]"
          },
          "metadata": {}
        }
      ]
    },
    {
      "cell_type": "markdown",
      "source": [
        "####toHandy() - HandySpark"
      ],
      "metadata": {
        "id": "ULqZtcuyNIZo"
      }
    },
    {
      "cell_type": "code",
      "source": [
        "!pip install handyspark"
      ],
      "metadata": {
        "colab": {
          "base_uri": "https://localhost:8080/"
        },
        "id": "0wg1Ed1tNYRU",
        "outputId": "9abd7387-8740-4729-fcd4-c2a762ded8bc"
      },
      "execution_count": null,
      "outputs": [
        {
          "output_type": "stream",
          "name": "stdout",
          "text": [
            "Collecting handyspark\n",
            "  Downloading handyspark-0.2.2a1-py2.py3-none-any.whl (39 kB)\n",
            "Requirement already satisfied: pyspark in /usr/local/lib/python3.10/dist-packages (from handyspark) (3.5.0)\n",
            "Requirement already satisfied: matplotlib in /usr/local/lib/python3.10/dist-packages (from handyspark) (3.7.1)\n",
            "Requirement already satisfied: numpy in /usr/local/lib/python3.10/dist-packages (from handyspark) (1.23.5)\n",
            "Requirement already satisfied: scipy in /usr/local/lib/python3.10/dist-packages (from handyspark) (1.11.3)\n",
            "Requirement already satisfied: seaborn in /usr/local/lib/python3.10/dist-packages (from handyspark) (0.12.2)\n",
            "Requirement already satisfied: pandas in /usr/local/lib/python3.10/dist-packages (from handyspark) (1.5.3)\n",
            "Requirement already satisfied: scikit-learn in /usr/local/lib/python3.10/dist-packages (from handyspark) (1.2.2)\n",
            "Collecting findspark (from handyspark)\n",
            "  Downloading findspark-2.0.1-py2.py3-none-any.whl (4.4 kB)\n",
            "Requirement already satisfied: pyarrow in /usr/local/lib/python3.10/dist-packages (from handyspark) (9.0.0)\n",
            "Requirement already satisfied: contourpy>=1.0.1 in /usr/local/lib/python3.10/dist-packages (from matplotlib->handyspark) (1.2.0)\n",
            "Requirement already satisfied: cycler>=0.10 in /usr/local/lib/python3.10/dist-packages (from matplotlib->handyspark) (0.12.1)\n",
            "Requirement already satisfied: fonttools>=4.22.0 in /usr/local/lib/python3.10/dist-packages (from matplotlib->handyspark) (4.44.3)\n",
            "Requirement already satisfied: kiwisolver>=1.0.1 in /usr/local/lib/python3.10/dist-packages (from matplotlib->handyspark) (1.4.5)\n",
            "Requirement already satisfied: packaging>=20.0 in /usr/local/lib/python3.10/dist-packages (from matplotlib->handyspark) (23.2)\n",
            "Requirement already satisfied: pillow>=6.2.0 in /usr/local/lib/python3.10/dist-packages (from matplotlib->handyspark) (9.4.0)\n",
            "Requirement already satisfied: pyparsing>=2.3.1 in /usr/local/lib/python3.10/dist-packages (from matplotlib->handyspark) (3.1.1)\n",
            "Requirement already satisfied: python-dateutil>=2.7 in /usr/local/lib/python3.10/dist-packages (from matplotlib->handyspark) (2.8.2)\n",
            "Requirement already satisfied: pytz>=2020.1 in /usr/local/lib/python3.10/dist-packages (from pandas->handyspark) (2023.3.post1)\n",
            "Requirement already satisfied: py4j==0.10.9.7 in /usr/local/lib/python3.10/dist-packages (from pyspark->handyspark) (0.10.9.7)\n",
            "Requirement already satisfied: joblib>=1.1.1 in /usr/local/lib/python3.10/dist-packages (from scikit-learn->handyspark) (1.3.2)\n",
            "Requirement already satisfied: threadpoolctl>=2.0.0 in /usr/local/lib/python3.10/dist-packages (from scikit-learn->handyspark) (3.2.0)\n",
            "Requirement already satisfied: six>=1.5 in /usr/local/lib/python3.10/dist-packages (from python-dateutil>=2.7->matplotlib->handyspark) (1.16.0)\n",
            "Installing collected packages: findspark, handyspark\n",
            "Successfully installed findspark-2.0.1 handyspark-0.2.2a1\n"
          ]
        }
      ]
    },
    {
      "cell_type": "code",
      "source": [
        "from handyspark import *"
      ],
      "metadata": {
        "id": "BZ8ZfdqpNaDg"
      },
      "execution_count": null,
      "outputs": []
    },
    {
      "cell_type": "code",
      "source": [
        "insect_handy = insect_df.toHandy()"
      ],
      "metadata": {
        "colab": {
          "base_uri": "https://localhost:8080/"
        },
        "id": "eqESjL8DG4um",
        "outputId": "cd2ac906-3cf7-4f2c-a0dc-cf6e9a7738d1"
      },
      "execution_count": null,
      "outputs": [
        {
          "output_type": "stream",
          "name": "stderr",
          "text": [
            "/usr/local/lib/python3.10/dist-packages/pyspark/sql/dataframe.py:168: UserWarning: DataFrame.sql_ctx is an internal property, and will be removed in future releases. Use DataFrame.sparkSession instead.\n",
            "  warnings.warn(\n",
            "/usr/local/lib/python3.10/dist-packages/pyspark/sql/dataframe.py:147: UserWarning: DataFrame constructor is internal. Do not directly use it.\n",
            "  warnings.warn(\"DataFrame constructor is internal. Do not directly use it.\")\n"
          ]
        }
      ]
    },
    {
      "cell_type": "code",
      "source": [
        "insect_handy.cols['price'].hist()"
      ],
      "metadata": {
        "colab": {
          "base_uri": "https://localhost:8080/",
          "height": 579
        },
        "id": "3NuS8NqhNQ1_",
        "outputId": "87cf3559-bd80-4037-916b-3ea13fb08bc9"
      },
      "execution_count": null,
      "outputs": [
        {
          "output_type": "stream",
          "name": "stderr",
          "text": [
            "/usr/local/lib/python3.10/dist-packages/pyspark/sql/dataframe.py:168: UserWarning: DataFrame.sql_ctx is an internal property, and will be removed in future releases. Use DataFrame.sparkSession instead.\n",
            "  warnings.warn(\n",
            "/usr/local/lib/python3.10/dist-packages/pyspark/sql/dataframe.py:147: UserWarning: DataFrame constructor is internal. Do not directly use it.\n",
            "  warnings.warn(\"DataFrame constructor is internal. Do not directly use it.\")\n"
          ]
        },
        {
          "output_type": "execute_result",
          "data": {
            "text/plain": [
              "<Axes: title={'center': 'price'}, xlabel='price'>"
            ]
          },
          "metadata": {},
          "execution_count": 35
        },
        {
          "output_type": "display_data",
          "data": {
            "text/plain": [
              "<Figure size 640x480 with 1 Axes>"
            ],
            "image/png": "[encoded data removed]"
          },
          "metadata": {}
        }
      ]
    }
  ]
}