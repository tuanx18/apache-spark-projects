{
  "nbformat": 4,
  "nbformat_minor": 0,
  "metadata": {
    "colab": {
      "provenance": []
    },
    "kernelspec": {
      "name": "python3",
      "display_name": "Python 3"
    },
    "language_info": {
      "name": "python"
    }
  },
  "cells": [
    {
      "cell_type": "markdown",
      "source": [
        "## Install Pyspark"
      ],
      "metadata": {
        "id": "PZ1GSkFrC0Rq"
      }
    },
    {
      "cell_type": "code",
      "source": [
        "!pip install pyspark"
      ],
      "metadata": {
        "colab": {
          "base_uri": "https://localhost:8080/"
        },
        "id": "vwtqGqEHA5BR",
        "outputId": "90431926-5fab-4566-baf9-dc48afdb5bc3"
      },
      "execution_count": 1,
      "outputs": [
        {
          "output_type": "stream",
          "name": "stdout",
          "text": [
            "Collecting pyspark\n",
            "  Downloading pyspark-3.5.0.tar.gz (316.9 MB)\n",
            "\u001b[2K     \u001b[90m━━━━━━━━━━━━━━━━━━━━━━━━━━━━━━━━━━━━━━━━\u001b[0m \u001b[32m316.9/316.9 MB\u001b[0m \u001b[31m5.0 MB/s\u001b[0m eta \u001b[36m0:00:00\u001b[0m\n",
            "\u001b[?25h  Preparing metadata (setup.py) ... \u001b[?25l\u001b[?25hdone\n",
            "Requirement already satisfied: py4j==0.10.9.7 in /usr/local/lib/python3.10/dist-packages (from pyspark) (0.10.9.7)\n",
            "Building wheels for collected packages: pyspark\n",
            "  Building wheel for pyspark (setup.py) ... \u001b[?25l\u001b[?25hdone\n",
            "  Created wheel for pyspark: filename=pyspark-3.5.0-py2.py3-none-any.whl size=317425344 sha256=c6fa444573ced68eae830531d67935e3acc4888c5b6692907bcb27d6652d9ccc\n",
            "  Stored in directory: /root/.cache/pip/wheels/41/4e/10/c2cf2467f71c678cfc8a6b9ac9241e5e44a01940da8fbb17fc\n",
            "Successfully built pyspark\n",
            "Installing collected packages: pyspark\n",
            "Successfully installed pyspark-3.5.0\n"
          ]
        }
      ]
    },
    {
      "cell_type": "markdown",
      "source": [
        "## Set up the environment for SparkSession and SparkContext"
      ],
      "metadata": {
        "id": "Ju_2N44nC6dw"
      }
    },
    {
      "cell_type": "code",
      "execution_count": 2,
      "metadata": {
        "id": "MxKoYH8h_6Xf"
      },
      "outputs": [],
      "source": [
        "from pyspark import SparkContext"
      ]
    },
    {
      "cell_type": "code",
      "source": [
        "from pyspark.sql import SparkSession\n",
        "\n",
        "# Create a SparkSession\n",
        "spark = SparkSession.builder.appName(\"PySpark1\").getOrCreate()\n",
        "\n",
        "# Get the SparkContext from the SparkSession\n",
        "sc = spark.sparkContext"
      ],
      "metadata": {
        "id": "U0XuCGI8Bujo"
      },
      "execution_count": 3,
      "outputs": []
    },
    {
      "cell_type": "code",
      "source": [
        "# Spark version\n",
        "sc.version"
      ],
      "metadata": {
        "colab": {
          "base_uri": "https://localhost:8080/",
          "height": 36
        },
        "id": "168tRDLwAcsA",
        "outputId": "94f29d80-ab8b-4498-f318-caf1b527fdca"
      },
      "execution_count": 4,
      "outputs": [
        {
          "output_type": "execute_result",
          "data": {
            "text/plain": [
              "'3.5.0'"
            ],
            "application/vnd.google.colaboratory.intrinsic+json": {
              "type": "string"
            }
          },
          "metadata": {},
          "execution_count": 4
        }
      ]
    },
    {
      "cell_type": "code",
      "source": [
        "# PySpark version\n",
        "sc.pythonVer"
      ],
      "metadata": {
        "colab": {
          "base_uri": "https://localhost:8080/",
          "height": 36
        },
        "id": "QfvS-n_fBP3v",
        "outputId": "2c7511b7-4849-4608-a015-290f855b4e42"
      },
      "execution_count": 5,
      "outputs": [
        {
          "output_type": "execute_result",
          "data": {
            "text/plain": [
              "'3.10'"
            ],
            "application/vnd.google.colaboratory.intrinsic+json": {
              "type": "string"
            }
          },
          "metadata": {},
          "execution_count": 5
        }
      ]
    },
    {
      "cell_type": "code",
      "source": [
        "# Master location\n",
        "sc.master"
      ],
      "metadata": {
        "colab": {
          "base_uri": "https://localhost:8080/",
          "height": 36
        },
        "id": "RKpoDO6dDIM4",
        "outputId": "5124ce48-88e1-48c6-dd25-5ad4f2e16ddf"
      },
      "execution_count": 6,
      "outputs": [
        {
          "output_type": "execute_result",
          "data": {
            "text/plain": [
              "'local[*]'"
            ],
            "application/vnd.google.colaboratory.intrinsic+json": {
              "type": "string"
            }
          },
          "metadata": {},
          "execution_count": 6
        }
      ]
    },
    {
      "cell_type": "markdown",
      "source": [
        "Currently, the SparkSession is running in local (it can be either **Local** or Cluster)"
      ],
      "metadata": {
        "id": "PjirV_XeDLqo"
      }
    },
    {
      "cell_type": "markdown",
      "source": [
        "## Get familiar with PySpark"
      ],
      "metadata": {
        "id": "0U1KOLzaDU5Q"
      }
    },
    {
      "cell_type": "markdown",
      "source": [
        "**RDD - Resilient Distributed Dataset**"
      ],
      "metadata": {
        "id": "ppddC0PLEWXI"
      }
    },
    {
      "cell_type": "code",
      "source": [
        "# RDD 1\n",
        "rdd1 = sc.parallelize([1, 2, 3, 4, 5])"
      ],
      "metadata": {
        "id": "t8-WtWyXDKw_"
      },
      "execution_count": 7,
      "outputs": []
    },
    {
      "cell_type": "markdown",
      "source": [
        "Note 1: Import local text file using **\"file:///\"**\n",
        "\n",
        "Note 2: Use \"**r**' at the beginning of the path in order to not get UnicodeEscape error"
      ],
      "metadata": {
        "id": "1gQIffQ3FPti"
      }
    },
    {
      "cell_type": "code",
      "source": [
        "# RDD 2: Local User's file import\n",
        "rdd2 = sc.textFile(r\"file:///C:\\Users\\admin.DESKTOP-GCE5IF7\\Desktop\\Project PT\\B-Insect.csv\")"
      ],
      "metadata": {
        "id": "WLonOz-DEqfP"
      },
      "execution_count": 8,
      "outputs": []
    },
    {
      "cell_type": "code",
      "source": [
        "# RDD 3: List of number from 1 to 1000\n",
        "number1000 = list(range(1, 1000))\n",
        "rdd3 = sc.parallelize(number1000)"
      ],
      "metadata": {
        "id": "0WSEKVEQFz0v"
      },
      "execution_count": 9,
      "outputs": []
    },
    {
      "cell_type": "markdown",
      "source": [
        "### Lambda Function"
      ],
      "metadata": {
        "id": "UzHD7xMDGmKg"
      }
    },
    {
      "cell_type": "markdown",
      "source": [
        "#### Map()"
      ],
      "metadata": {
        "id": "YWZ1pIVpG_4K"
      }
    },
    {
      "cell_type": "markdown",
      "source": [
        "**1 - Squared List**"
      ],
      "metadata": {
        "id": "usMn7qQFKLsI"
      }
    },
    {
      "cell_type": "code",
      "source": [
        "normal_list = [3, 6, 8, 10, 15, 17, 200]\n",
        "squared_list = list(map(lambda x: x**2, normal_list))\n",
        "squared_list"
      ],
      "metadata": {
        "colab": {
          "base_uri": "https://localhost:8080/"
        },
        "id": "PN6UoVs2GTEQ",
        "outputId": "d6f787d7-849b-40e1-ebe3-02ec81a6471f"
      },
      "execution_count": 10,
      "outputs": [
        {
          "output_type": "execute_result",
          "data": {
            "text/plain": [
              "[9, 36, 64, 100, 225, 289, 40000]"
            ]
          },
          "metadata": {},
          "execution_count": 10
        }
      ]
    },
    {
      "cell_type": "markdown",
      "source": [
        "**2 - Operated List**"
      ],
      "metadata": {
        "id": "XWewVNYkKQQ4"
      }
    },
    {
      "cell_type": "code",
      "source": [
        "prime_list = [2, 3, 5, 7, 11, 13, 17, 19]\n",
        "operated_list = list(map(lambda x: (x + 4)**2 - 20, prime_list))\n",
        "operated_list"
      ],
      "metadata": {
        "colab": {
          "base_uri": "https://localhost:8080/"
        },
        "id": "AldKCLmzGzyC",
        "outputId": "5e06f377-4ec0-42c9-db47-dc01b7b5b954"
      },
      "execution_count": 11,
      "outputs": [
        {
          "output_type": "execute_result",
          "data": {
            "text/plain": [
              "[16, 29, 61, 101, 205, 269, 421, 509]"
            ]
          },
          "metadata": {},
          "execution_count": 11
        }
      ]
    },
    {
      "cell_type": "markdown",
      "source": [
        "**3 - Sum of Digits in Random List**"
      ],
      "metadata": {
        "id": "7hhbF-0FKT4o"
      }
    },
    {
      "cell_type": "code",
      "source": [
        "import random\n",
        "random_list = []\n",
        "for i in list(range(1,10)):\n",
        "  rando = random.randint(100,999)\n",
        "  random_list.append(rando)\n",
        "\n",
        "random_list"
      ],
      "metadata": {
        "colab": {
          "base_uri": "https://localhost:8080/"
        },
        "id": "FGm6g8bUHXvA",
        "outputId": "5bf3537c-19e1-4a95-f1a3-551cabaab925"
      },
      "execution_count": 12,
      "outputs": [
        {
          "output_type": "execute_result",
          "data": {
            "text/plain": [
              "[141, 138, 473, 211, 127, 318, 344, 234, 460]"
            ]
          },
          "metadata": {},
          "execution_count": 12
        }
      ]
    },
    {
      "cell_type": "code",
      "source": [
        "sum_digit_list = list(map(lambda x: x // 100 + (x // 10) % 10 + x % 10, random_list))\n",
        "sum_digit_list"
      ],
      "metadata": {
        "colab": {
          "base_uri": "https://localhost:8080/"
        },
        "id": "vRhecOnBHzko",
        "outputId": "68b59aed-d3c0-4b81-dc0a-b9e153a75199"
      },
      "execution_count": 13,
      "outputs": [
        {
          "output_type": "execute_result",
          "data": {
            "text/plain": [
              "[6, 12, 14, 4, 10, 12, 11, 9, 10]"
            ]
          },
          "metadata": {},
          "execution_count": 13
        }
      ]
    },
    {
      "cell_type": "markdown",
      "source": [
        "**4 - List of numbers divisible by 17**"
      ],
      "metadata": {
        "id": "kAaA1uV5KaIp"
      }
    },
    {
      "cell_type": "code",
      "source": [
        "random_list2 = []\n",
        "for i in list(range(1, 10)):\n",
        "  rando = random.randint(1, 100000)\n",
        "  random_list2.append(rando)\n",
        "\n",
        "random_list2"
      ],
      "metadata": {
        "colab": {
          "base_uri": "https://localhost:8080/"
        },
        "id": "PsIS8eH-IThS",
        "outputId": "73d36469-5bb4-4edd-a4a7-2138b385d75d"
      },
      "execution_count": 14,
      "outputs": [
        {
          "output_type": "execute_result",
          "data": {
            "text/plain": [
              "[7533, 97187, 19535, 4059, 8897, 16405, 92810, 15938, 32849]"
            ]
          },
          "metadata": {},
          "execution_count": 14
        }
      ]
    },
    {
      "cell_type": "code",
      "source": [
        "div17_list = list(map(lambda x: x % 17, random_list2))\n",
        "div17_list"
      ],
      "metadata": {
        "colab": {
          "base_uri": "https://localhost:8080/"
        },
        "id": "Ydf14wQVIsNQ",
        "outputId": "addf8f92-91f4-483d-a056-ede247840ddc"
      },
      "execution_count": 15,
      "outputs": [
        {
          "output_type": "execute_result",
          "data": {
            "text/plain": [
              "[2, 15, 2, 13, 6, 0, 7, 9, 5]"
            ]
          },
          "metadata": {},
          "execution_count": 15
        }
      ]
    },
    {
      "cell_type": "markdown",
      "source": [
        "#### Filter()"
      ],
      "metadata": {
        "id": "lAR1hCLVI50I"
      }
    },
    {
      "cell_type": "markdown",
      "source": [
        "**1 - Filter number divisible by 5 or 7**"
      ],
      "metadata": {
        "id": "3od7463DKiDy"
      }
    },
    {
      "cell_type": "code",
      "source": [
        "random_list3 = []\n",
        "for i in range(1, 14):\n",
        "  rando = random.randint(1, 999)\n",
        "  random_list3.append(rando)\n",
        "\n",
        "random_list3"
      ],
      "metadata": {
        "colab": {
          "base_uri": "https://localhost:8080/"
        },
        "id": "VKlHG2JmI7fq",
        "outputId": "0527e90d-41b4-43bb-ba8f-5054cd116699"
      },
      "execution_count": 16,
      "outputs": [
        {
          "output_type": "execute_result",
          "data": {
            "text/plain": [
              "[361, 115, 145, 595, 612, 389, 458, 918, 265, 368, 897, 624, 41]"
            ]
          },
          "metadata": {},
          "execution_count": 16
        }
      ]
    },
    {
      "cell_type": "code",
      "source": [
        "filter57_list = list(filter(lambda x: (x % 5 == 0) or (x % 7 == 0), random_list3))\n",
        "filter57_list"
      ],
      "metadata": {
        "colab": {
          "base_uri": "https://localhost:8080/"
        },
        "id": "1qSeUCKfJqBQ",
        "outputId": "8f1063a5-11ea-4b20-b67b-6e38957bec80"
      },
      "execution_count": 17,
      "outputs": [
        {
          "output_type": "execute_result",
          "data": {
            "text/plain": [
              "[115, 145, 595, 265]"
            ]
          },
          "metadata": {},
          "execution_count": 17
        }
      ]
    },
    {
      "cell_type": "markdown",
      "source": [
        "**2 - Filter number that is a squared result**"
      ],
      "metadata": {
        "id": "UswejUhcKoYp"
      }
    },
    {
      "cell_type": "code",
      "source": [
        "random_list4 = []\n",
        "for i in range(1, 15):\n",
        "  rando = random.randint(1, 60)\n",
        "  random_list4.append(rando)\n",
        "\n",
        "random_list4"
      ],
      "metadata": {
        "colab": {
          "base_uri": "https://localhost:8080/"
        },
        "id": "2XR1ZomcJ-CI",
        "outputId": "4334fe39-752c-4ec4-ad12-175df66904ce"
      },
      "execution_count": 18,
      "outputs": [
        {
          "output_type": "execute_result",
          "data": {
            "text/plain": [
              "[10, 43, 9, 6, 18, 19, 56, 26, 58, 12, 32, 43, 8, 53]"
            ]
          },
          "metadata": {},
          "execution_count": 18
        }
      ]
    },
    {
      "cell_type": "code",
      "source": [
        "squared_res_list = list(filter(lambda x: ((x ** 0.5) - round(x ** 0.5, ) == 0), random_list4))\n",
        "squared_res_list"
      ],
      "metadata": {
        "colab": {
          "base_uri": "https://localhost:8080/"
        },
        "id": "MVx5rWYPK4Gg",
        "outputId": "65a8ae69-6603-4702-a841-31f71058f13e"
      },
      "execution_count": 19,
      "outputs": [
        {
          "output_type": "execute_result",
          "data": {
            "text/plain": [
              "[9]"
            ]
          },
          "metadata": {},
          "execution_count": 19
        }
      ]
    },
    {
      "cell_type": "markdown",
      "source": [
        "### More on RDD transformation"
      ],
      "metadata": {
        "id": "lxNGhK4qXMaN"
      }
    },
    {
      "cell_type": "markdown",
      "source": [
        "#### Partitioning - **Set the Partitioning**"
      ],
      "metadata": {
        "id": "OxhQtIJrMvV7"
      }
    },
    {
      "cell_type": "markdown",
      "source": [
        "Count the partitions"
      ],
      "metadata": {
        "id": "zstzZP4_NUUr"
      }
    },
    {
      "cell_type": "code",
      "source": [
        "num_par = rdd3.getNumPartitions()\n",
        "num_par"
      ],
      "metadata": {
        "colab": {
          "base_uri": "https://localhost:8080/"
        },
        "id": "WaiHSlePM6b6",
        "outputId": "5fc12018-a5e5-468a-90a1-1a0620c8abb7"
      },
      "execution_count": 20,
      "outputs": [
        {
          "output_type": "execute_result",
          "data": {
            "text/plain": [
              "2"
            ]
          },
          "metadata": {},
          "execution_count": 20
        }
      ]
    },
    {
      "cell_type": "code",
      "source": [
        "num_list = []\n",
        "for i in range(1,10000):\n",
        "  num_list.append(i)\n",
        "\n",
        "rdd4 = sc.parallelize(num_list)\n",
        "rdd4.getNumPartitions()"
      ],
      "metadata": {
        "colab": {
          "base_uri": "https://localhost:8080/"
        },
        "id": "GON9h3haNK7J",
        "outputId": "16e63694-e044-4faa-99d9-92d5a0a23030"
      },
      "execution_count": 21,
      "outputs": [
        {
          "output_type": "execute_result",
          "data": {
            "text/plain": [
              "2"
            ]
          },
          "metadata": {},
          "execution_count": 21
        }
      ]
    },
    {
      "cell_type": "markdown",
      "source": [
        "#### FlatMap()"
      ],
      "metadata": {
        "id": "1Sr-oPz3RCeU"
      }
    },
    {
      "cell_type": "markdown",
      "source": [
        "**Return more values than the original array**"
      ],
      "metadata": {
        "id": "tAl8pWjLRLGL"
      }
    },
    {
      "cell_type": "code",
      "source": [
        "text_n = ['Hello this is', 'Hoang Anh Tuan', 'What is your name?']\n",
        "rdd5 = sc.parallelize(text_n)"
      ],
      "metadata": {
        "id": "xHfP8DWRPXSB"
      },
      "execution_count": 22,
      "outputs": []
    },
    {
      "cell_type": "code",
      "source": [
        "# Split all the words using flatMap\n",
        "rdd5 = rdd5.flatMap(lambda x: x.split(\" \"))"
      ],
      "metadata": {
        "id": "qVlH3ltNRqgp"
      },
      "execution_count": 23,
      "outputs": []
    },
    {
      "cell_type": "markdown",
      "source": [
        "#### Union - **To combine 2 RDDs**"
      ],
      "metadata": {
        "id": "x4Jx0BsASaiE"
      }
    },
    {
      "cell_type": "code",
      "source": [
        "# Create a new RDD\n",
        "rdd6 = sc.parallelize([1, 5, 7, 'Numbers'])"
      ],
      "metadata": {
        "id": "Puq7K-aySIG6"
      },
      "execution_count": 24,
      "outputs": []
    },
    {
      "cell_type": "code",
      "source": [
        "combined_rdd = rdd5.union(rdd6)"
      ],
      "metadata": {
        "id": "gVhxnABYSku5"
      },
      "execution_count": 25,
      "outputs": []
    },
    {
      "cell_type": "markdown",
      "source": [
        "#### Collect() - **To see all elements**"
      ],
      "metadata": {
        "id": "EpzF2q1WTLJS"
      }
    },
    {
      "cell_type": "code",
      "source": [
        "rdd1.collect()"
      ],
      "metadata": {
        "colab": {
          "base_uri": "https://localhost:8080/"
        },
        "id": "QGhO2croUCN8",
        "outputId": "1635081e-c69a-4f1e-8907-84b90f58c28f"
      },
      "execution_count": 26,
      "outputs": [
        {
          "output_type": "execute_result",
          "data": {
            "text/plain": [
              "[1, 2, 3, 4, 5]"
            ]
          },
          "metadata": {},
          "execution_count": 26
        }
      ]
    },
    {
      "cell_type": "code",
      "source": [
        "combined_rdd.collect()"
      ],
      "metadata": {
        "colab": {
          "base_uri": "https://localhost:8080/"
        },
        "id": "x6J7iMhBTO2Z",
        "outputId": "b6020880-3e6c-4f76-88a7-25cfb787b29f"
      },
      "execution_count": 27,
      "outputs": [
        {
          "output_type": "execute_result",
          "data": {
            "text/plain": [
              "['Hello',\n",
              " 'this',\n",
              " 'is',\n",
              " 'Hoang',\n",
              " 'Anh',\n",
              " 'Tuan',\n",
              " 'What',\n",
              " 'is',\n",
              " 'your',\n",
              " 'name?',\n",
              " 1,\n",
              " 5,\n",
              " 7,\n",
              " 'Numbers']"
            ]
          },
          "metadata": {},
          "execution_count": 27
        }
      ]
    },
    {
      "cell_type": "code",
      "source": [
        "# See all the elements\n",
        "data = combined_rdd.collect()\n",
        "for element in data:\n",
        "    print(element)"
      ],
      "metadata": {
        "colab": {
          "base_uri": "https://localhost:8080/"
        },
        "id": "YPtu_mlhSqfZ",
        "outputId": "42d47651-c894-45a6-8cc8-0271e1754fea"
      },
      "execution_count": 28,
      "outputs": [
        {
          "output_type": "stream",
          "name": "stdout",
          "text": [
            "Hello\n",
            "this\n",
            "is\n",
            "Hoang\n",
            "Anh\n",
            "Tuan\n",
            "What\n",
            "is\n",
            "your\n",
            "name?\n",
            "1\n",
            "5\n",
            "7\n",
            "Numbers\n"
          ]
        }
      ]
    },
    {
      "cell_type": "markdown",
      "source": [
        "#### take(N) - **To see N number of elements from the RDD**"
      ],
      "metadata": {
        "id": "0dPZ0dRbTh30"
      }
    },
    {
      "cell_type": "code",
      "source": [
        "combined_rdd.take(6)"
      ],
      "metadata": {
        "colab": {
          "base_uri": "https://localhost:8080/"
        },
        "id": "7Rskp4V0S4PW",
        "outputId": "fed7355e-bede-47d1-c9ac-722eb3d49a5d"
      },
      "execution_count": 29,
      "outputs": [
        {
          "output_type": "execute_result",
          "data": {
            "text/plain": [
              "['Hello', 'this', 'is', 'Hoang', 'Anh', 'Tuan']"
            ]
          },
          "metadata": {},
          "execution_count": 29
        }
      ]
    },
    {
      "cell_type": "code",
      "source": [
        "rdd4.take(11)"
      ],
      "metadata": {
        "colab": {
          "base_uri": "https://localhost:8080/"
        },
        "id": "SKAT5wrVTodC",
        "outputId": "397ee316-0283-4064-9b34-42006f802f9d"
      },
      "execution_count": 30,
      "outputs": [
        {
          "output_type": "execute_result",
          "data": {
            "text/plain": [
              "[1, 2, 3, 4, 5, 6, 7, 8, 9, 10, 11]"
            ]
          },
          "metadata": {},
          "execution_count": 30
        }
      ]
    },
    {
      "cell_type": "code",
      "source": [
        "random_list9 = []\n",
        "for i in range(1,11):\n",
        "  rando = random.randint(999,10000)\n",
        "  random_list9.append(rando)\n",
        "\n",
        "rdd7 = sc.parallelize(random_list9)\n",
        "rdd7.take(7)"
      ],
      "metadata": {
        "colab": {
          "base_uri": "https://localhost:8080/"
        },
        "id": "1JHMvr3YTtn5",
        "outputId": "bc7c8735-6dee-4a97-f5cf-e1bcbcfd1b53"
      },
      "execution_count": 31,
      "outputs": [
        {
          "output_type": "execute_result",
          "data": {
            "text/plain": [
              "[5884, 8718, 3660, 5005, 6806, 1522, 8372]"
            ]
          },
          "metadata": {},
          "execution_count": 31
        }
      ]
    },
    {
      "cell_type": "code",
      "source": [
        "# Collect() to get all elements\n",
        "rdd7.collect()"
      ],
      "metadata": {
        "colab": {
          "base_uri": "https://localhost:8080/"
        },
        "id": "McIOoIEcUYVi",
        "outputId": "9ce744ff-b3c2-4fea-84a7-d7727bd9db3a"
      },
      "execution_count": 32,
      "outputs": [
        {
          "output_type": "execute_result",
          "data": {
            "text/plain": [
              "[5884, 8718, 3660, 5005, 6806, 1522, 8372, 9901, 1319, 3188]"
            ]
          },
          "metadata": {},
          "execution_count": 32
        }
      ]
    },
    {
      "cell_type": "markdown",
      "source": [
        "#### first() - **Get the first element on the list**"
      ],
      "metadata": {
        "id": "leQKzZJIU2pN"
      }
    },
    {
      "cell_type": "code",
      "source": [
        "rdd1.first()"
      ],
      "metadata": {
        "colab": {
          "base_uri": "https://localhost:8080/"
        },
        "id": "XzQEkffDU6d3",
        "outputId": "d043844c-be3e-43ae-de06-0fb532a95156"
      },
      "execution_count": 33,
      "outputs": [
        {
          "output_type": "execute_result",
          "data": {
            "text/plain": [
              "1"
            ]
          },
          "metadata": {},
          "execution_count": 33
        }
      ]
    },
    {
      "cell_type": "code",
      "source": [
        "rdd3.first()"
      ],
      "metadata": {
        "colab": {
          "base_uri": "https://localhost:8080/"
        },
        "id": "40rlubwDU7vZ",
        "outputId": "b96170c3-37cd-44f9-ad40-80e17d6fafa7"
      },
      "execution_count": 34,
      "outputs": [
        {
          "output_type": "execute_result",
          "data": {
            "text/plain": [
              "1"
            ]
          },
          "metadata": {},
          "execution_count": 34
        }
      ]
    },
    {
      "cell_type": "code",
      "source": [
        "rdd4.first()"
      ],
      "metadata": {
        "colab": {
          "base_uri": "https://localhost:8080/"
        },
        "id": "3jDql27hU8lR",
        "outputId": "58532291-95cc-4451-d54d-7662fa18f389"
      },
      "execution_count": 35,
      "outputs": [
        {
          "output_type": "execute_result",
          "data": {
            "text/plain": [
              "1"
            ]
          },
          "metadata": {},
          "execution_count": 35
        }
      ]
    },
    {
      "cell_type": "code",
      "source": [
        "rdd5.first()"
      ],
      "metadata": {
        "colab": {
          "base_uri": "https://localhost:8080/",
          "height": 36
        },
        "id": "_TMZG86uU_Sx",
        "outputId": "f80cb9f7-f72b-4123-9ebc-8e223b02cad5"
      },
      "execution_count": 36,
      "outputs": [
        {
          "output_type": "execute_result",
          "data": {
            "text/plain": [
              "'Hello'"
            ],
            "application/vnd.google.colaboratory.intrinsic+json": {
              "type": "string"
            }
          },
          "metadata": {},
          "execution_count": 36
        }
      ]
    },
    {
      "cell_type": "code",
      "source": [
        "rdd6.first()"
      ],
      "metadata": {
        "colab": {
          "base_uri": "https://localhost:8080/"
        },
        "id": "1107kFprVAfB",
        "outputId": "47771519-28a5-4ced-982b-19685b7ff39a"
      },
      "execution_count": 37,
      "outputs": [
        {
          "output_type": "execute_result",
          "data": {
            "text/plain": [
              "1"
            ]
          },
          "metadata": {},
          "execution_count": 37
        }
      ]
    },
    {
      "cell_type": "code",
      "source": [
        "combined_rdd.first()"
      ],
      "metadata": {
        "colab": {
          "base_uri": "https://localhost:8080/",
          "height": 36
        },
        "id": "4JCka0VkVBqh",
        "outputId": "58443705-7740-41e5-d2af-bc2e28472ede"
      },
      "execution_count": 38,
      "outputs": [
        {
          "output_type": "execute_result",
          "data": {
            "text/plain": [
              "'Hello'"
            ],
            "application/vnd.google.colaboratory.intrinsic+json": {
              "type": "string"
            }
          },
          "metadata": {},
          "execution_count": 38
        }
      ]
    },
    {
      "cell_type": "code",
      "source": [
        "rdd7.first()"
      ],
      "metadata": {
        "colab": {
          "base_uri": "https://localhost:8080/"
        },
        "id": "dvqcGUn0VC-Z",
        "outputId": "695ab234-55b5-4036-c80e-610f3c0dd6f6"
      },
      "execution_count": 39,
      "outputs": [
        {
          "output_type": "execute_result",
          "data": {
            "text/plain": [
              "5884"
            ]
          },
          "metadata": {},
          "execution_count": 39
        }
      ]
    },
    {
      "cell_type": "markdown",
      "source": [
        "#### count() - **Count the element of the RDD**"
      ],
      "metadata": {
        "id": "qBSj-LcmVMSF"
      }
    },
    {
      "cell_type": "code",
      "source": [
        "rdd1.count()"
      ],
      "metadata": {
        "colab": {
          "base_uri": "https://localhost:8080/"
        },
        "id": "sZ8QhYVZVR6F",
        "outputId": "8a5bb92a-f55d-4a05-f0b0-d979498a3a3c"
      },
      "execution_count": 40,
      "outputs": [
        {
          "output_type": "execute_result",
          "data": {
            "text/plain": [
              "5"
            ]
          },
          "metadata": {},
          "execution_count": 40
        }
      ]
    },
    {
      "cell_type": "code",
      "source": [
        "rdd3.count()"
      ],
      "metadata": {
        "colab": {
          "base_uri": "https://localhost:8080/"
        },
        "id": "OafFbRyWVTGS",
        "outputId": "85e003ec-285d-43a4-b6d1-de353320fcce"
      },
      "execution_count": 41,
      "outputs": [
        {
          "output_type": "execute_result",
          "data": {
            "text/plain": [
              "999"
            ]
          },
          "metadata": {},
          "execution_count": 41
        }
      ]
    },
    {
      "cell_type": "code",
      "source": [
        "rdd4.count()"
      ],
      "metadata": {
        "colab": {
          "base_uri": "https://localhost:8080/"
        },
        "id": "YlKuwWJ7VURq",
        "outputId": "80dfa208-d233-45a8-da1f-ccdfdf790336"
      },
      "execution_count": 42,
      "outputs": [
        {
          "output_type": "execute_result",
          "data": {
            "text/plain": [
              "9999"
            ]
          },
          "metadata": {},
          "execution_count": 42
        }
      ]
    },
    {
      "cell_type": "code",
      "source": [
        "rdd5.count()"
      ],
      "metadata": {
        "colab": {
          "base_uri": "https://localhost:8080/"
        },
        "id": "ffJMbRXqVVUy",
        "outputId": "199f1aee-c64d-4fdc-c103-68d20a603d59"
      },
      "execution_count": 43,
      "outputs": [
        {
          "output_type": "execute_result",
          "data": {
            "text/plain": [
              "10"
            ]
          },
          "metadata": {},
          "execution_count": 43
        }
      ]
    },
    {
      "cell_type": "code",
      "source": [
        "rdd6.count()"
      ],
      "metadata": {
        "colab": {
          "base_uri": "https://localhost:8080/"
        },
        "id": "3sgW-SMCVWiZ",
        "outputId": "7cdf34a1-ef53-4218-b791-9fcb6a614893"
      },
      "execution_count": 44,
      "outputs": [
        {
          "output_type": "execute_result",
          "data": {
            "text/plain": [
              "4"
            ]
          },
          "metadata": {},
          "execution_count": 44
        }
      ]
    },
    {
      "cell_type": "code",
      "source": [
        "combined_rdd.count()"
      ],
      "metadata": {
        "colab": {
          "base_uri": "https://localhost:8080/"
        },
        "id": "iNuVoHYZVYVh",
        "outputId": "3d898fc6-b69d-4905-88c3-6902f78664d5"
      },
      "execution_count": 45,
      "outputs": [
        {
          "output_type": "execute_result",
          "data": {
            "text/plain": [
              "14"
            ]
          },
          "metadata": {},
          "execution_count": 45
        }
      ]
    },
    {
      "cell_type": "code",
      "source": [
        "rdd7.count()"
      ],
      "metadata": {
        "colab": {
          "base_uri": "https://localhost:8080/"
        },
        "id": "Wu1yN54JVaBj",
        "outputId": "ec38e6ac-263d-42ae-8f5f-e77533cbfa42"
      },
      "execution_count": 46,
      "outputs": [
        {
          "output_type": "execute_result",
          "data": {
            "text/plain": [
              "10"
            ]
          },
          "metadata": {},
          "execution_count": 46
        }
      ]
    },
    {
      "cell_type": "markdown",
      "source": [
        "### Pair RDD"
      ],
      "metadata": {
        "id": "1z5i3f50XQ10"
      }
    },
    {
      "cell_type": "markdown",
      "source": [
        "#### Creating pair RDDs"
      ],
      "metadata": {
        "id": "UGcGNMlVXS6q"
      }
    },
    {
      "cell_type": "markdown",
      "source": [
        "**There are 2 ways of creating pair RDDs**\n",
        "\n",
        "1. From a list of key-tuple value\n",
        "2. From a regular RDD"
      ],
      "metadata": {
        "id": "jA_U8pPEXaWj"
      }
    },
    {
      "cell_type": "markdown",
      "source": [
        "*Method 1: Key-tuple value*"
      ],
      "metadata": {
        "id": "YI24SFoOXrTy"
      }
    },
    {
      "cell_type": "code",
      "source": [
        "list_tuple1 = [('Tuan', 23), ('Quyen', 20), ('Ken', 12), ('Huy', 18), ('Mother', 48)]\n",
        "rdd8 = sc.parallelize(list_tuple1)\n",
        "rdd8.collect()"
      ],
      "metadata": {
        "colab": {
          "base_uri": "https://localhost:8080/"
        },
        "id": "Z1krGVjLVcCB",
        "outputId": "5e3ec379-0246-4d98-a79a-2645d86b1a1c"
      },
      "execution_count": 47,
      "outputs": [
        {
          "output_type": "execute_result",
          "data": {
            "text/plain": [
              "[('Tuan', 23), ('Quyen', 20), ('Ken', 12), ('Huy', 18), ('Mother', 48)]"
            ]
          },
          "metadata": {},
          "execution_count": 47
        }
      ]
    },
    {
      "cell_type": "code",
      "source": [
        "list_tuple2 = [('Minecraft', 5, 'Expensive'), ('Terraria', 4, 'Fair'), ('GTA5', 5, 'Very Expensive'), ('Stardew Valley', 3, 'Cheap AF')]\n",
        "rdd9 = sc.parallelize(list_tuple2)\n",
        "rdd9.collect()"
      ],
      "metadata": {
        "colab": {
          "base_uri": "https://localhost:8080/"
        },
        "id": "r8qHFECQYGxC",
        "outputId": "d0a164e0-3203-42ca-f8ce-0a4d771f6d31"
      },
      "execution_count": 48,
      "outputs": [
        {
          "output_type": "execute_result",
          "data": {
            "text/plain": [
              "[('Minecraft', 5, 'Expensive'),\n",
              " ('Terraria', 4, 'Fair'),\n",
              " ('GTA5', 5, 'Very Expensive'),\n",
              " ('Stardew Valley', 3, 'Cheap AF')]"
            ]
          },
          "metadata": {},
          "execution_count": 48
        }
      ]
    },
    {
      "cell_type": "code",
      "source": [
        "list_tuple3 = [(1, 3), (3, 5), (5, 7), (7, 9), (9, 11), (11, 1)]\n",
        "rdd10 = sc.parallelize(list_tuple3)\n",
        "rdd10.collect()"
      ],
      "metadata": {
        "colab": {
          "base_uri": "https://localhost:8080/"
        },
        "id": "0Dc430kpYbzR",
        "outputId": "a1f9f2da-9351-4366-91f7-6e1cb5c4a712"
      },
      "execution_count": 49,
      "outputs": [
        {
          "output_type": "execute_result",
          "data": {
            "text/plain": [
              "[(1, 3), (3, 5), (5, 7), (7, 9), (9, 11), (11, 1)]"
            ]
          },
          "metadata": {},
          "execution_count": 49
        }
      ]
    },
    {
      "cell_type": "markdown",
      "source": [
        "*Method 2: One regular RDD*"
      ],
      "metadata": {
        "id": "NDavpwt2Y267"
      }
    },
    {
      "cell_type": "code",
      "source": [
        "list_na = ['Tuan 29 0', 'Quyen 23 1', 'Ken 12 0', 'Huy 18 1', 'Mother 48 3', 'Grandpa 82 18', 'Earth 100000000 9000']\n",
        "rdd11_regular = sc.parallelize(list_na)\n",
        "rdd11 = rdd11_regular.map((lambda x: (x.split(\" \")[0], x.split(\" \")[1])))\n",
        "rdd11.collect()"
      ],
      "metadata": {
        "colab": {
          "base_uri": "https://localhost:8080/"
        },
        "id": "whxowM2AY1DK",
        "outputId": "726106b3-494a-4db5-b792-e90f17cd2873"
      },
      "execution_count": 50,
      "outputs": [
        {
          "output_type": "execute_result",
          "data": {
            "text/plain": [
              "[('Tuan', '29'),\n",
              " ('Quyen', '23'),\n",
              " ('Ken', '12'),\n",
              " ('Huy', '18'),\n",
              " ('Mother', '48'),\n",
              " ('Grandpa', '82'),\n",
              " ('Earth', '100000000')]"
            ]
          },
          "metadata": {},
          "execution_count": 50
        }
      ]
    },
    {
      "cell_type": "code",
      "source": [
        "rdd12 = rdd11_regular.map(lambda s: (s.split(\" \")[0], s.split(\" \")[1], s.split(\" \")[2]))\n",
        "rdd12.collect()"
      ],
      "metadata": {
        "colab": {
          "base_uri": "https://localhost:8080/"
        },
        "id": "RQBI_pGIZ3RL",
        "outputId": "935accab-a458-4e8c-f641-2b72cdbb0f46"
      },
      "execution_count": 51,
      "outputs": [
        {
          "output_type": "execute_result",
          "data": {
            "text/plain": [
              "[('Tuan', '29', '0'),\n",
              " ('Quyen', '23', '1'),\n",
              " ('Ken', '12', '0'),\n",
              " ('Huy', '18', '1'),\n",
              " ('Mother', '48', '3'),\n",
              " ('Grandpa', '82', '18'),\n",
              " ('Earth', '100000000', '9000')]"
            ]
          },
          "metadata": {},
          "execution_count": 51
        }
      ]
    },
    {
      "cell_type": "code",
      "source": [
        "rdd11.count() + rdd12.count()"
      ],
      "metadata": {
        "colab": {
          "base_uri": "https://localhost:8080/"
        },
        "id": "6GiTXYrGaOOL",
        "outputId": "fb2f7776-ecf2-47a2-ce27-6a0b47a58926"
      },
      "execution_count": 52,
      "outputs": [
        {
          "output_type": "execute_result",
          "data": {
            "text/plain": [
              "14"
            ]
          },
          "metadata": {},
          "execution_count": 52
        }
      ]
    },
    {
      "cell_type": "markdown",
      "source": [
        "#### reduceByKey() - **Like SUM() + Group By in SQL**"
      ],
      "metadata": {
        "id": "wbvU6KfYa1ae"
      }
    },
    {
      "cell_type": "code",
      "source": [
        "# Create a RDD with duplicated value x\n",
        "list_player = [('Ronaldo', 30), ('Messi', 32), ('Pele', 40), ('Ronaldinho', 32), ('Ganarcho', 30), ('Ronaldo', 36), ('Messi', 40)]\n",
        "rdd12 = sc.parallelize(list_player)\n",
        "rdd12.collect()"
      ],
      "metadata": {
        "colab": {
          "base_uri": "https://localhost:8080/"
        },
        "id": "hsnXEMR0a-5a",
        "outputId": "fa983a20-2925-4d03-f0cd-d4b924bbb9a7"
      },
      "execution_count": 53,
      "outputs": [
        {
          "output_type": "execute_result",
          "data": {
            "text/plain": [
              "[('Ronaldo', 30),\n",
              " ('Messi', 32),\n",
              " ('Pele', 40),\n",
              " ('Ronaldinho', 32),\n",
              " ('Ganarcho', 30),\n",
              " ('Ronaldo', 36),\n",
              " ('Messi', 40)]"
            ]
          },
          "metadata": {},
          "execution_count": 53
        }
      ]
    },
    {
      "cell_type": "code",
      "source": [
        "rdd12_reduce = rdd12.reduceByKey(lambda x,y: x+y)\n",
        "rdd12_reduce.collect()"
      ],
      "metadata": {
        "colab": {
          "base_uri": "https://localhost:8080/"
        },
        "id": "4MgQ4ryDbu6T",
        "outputId": "bd2a066f-1c3c-4976-ddac-33fd3f4415a2"
      },
      "execution_count": 54,
      "outputs": [
        {
          "output_type": "execute_result",
          "data": {
            "text/plain": [
              "[('Ronaldo', 66),\n",
              " ('Pele', 40),\n",
              " ('Messi', 72),\n",
              " ('Ronaldinho', 32),\n",
              " ('Ganarcho', 30)]"
            ]
          },
          "metadata": {},
          "execution_count": 54
        }
      ]
    },
    {
      "cell_type": "markdown",
      "source": [
        "#### sortByKey() - **Like Order By in SQL**"
      ],
      "metadata": {
        "id": "waO5wIrkcW59"
      }
    },
    {
      "cell_type": "code",
      "source": [
        "# Reverse the order from (Messi, 1) to (1, Messi)\n",
        "rdd12_reduce_revese = rdd12_reduce.map(lambda x: (x[1], x[0]))\n",
        "rdd12_reduce_revese.sortByKey(ascending=True).collect()   # Ascending Number of Goals"
      ],
      "metadata": {
        "colab": {
          "base_uri": "https://localhost:8080/"
        },
        "id": "litTk6r3cfvi",
        "outputId": "9956b9d4-b2d5-4d7b-f6f4-90f62045c098"
      },
      "execution_count": 55,
      "outputs": [
        {
          "output_type": "execute_result",
          "data": {
            "text/plain": [
              "[(30, 'Ganarcho'),\n",
              " (32, 'Ronaldinho'),\n",
              " (40, 'Pele'),\n",
              " (66, 'Ronaldo'),\n",
              " (72, 'Messi')]"
            ]
          },
          "metadata": {},
          "execution_count": 55
        }
      ]
    },
    {
      "cell_type": "code",
      "source": [
        "rdd12_reduce_revese.sortByKey(ascending=False).collect()   # Descending Number of Goals"
      ],
      "metadata": {
        "colab": {
          "base_uri": "https://localhost:8080/"
        },
        "id": "zZFGfAAagjCE",
        "outputId": "fdafb4b3-2c96-4540-c29e-95bcfbf20a0c"
      },
      "execution_count": 56,
      "outputs": [
        {
          "output_type": "execute_result",
          "data": {
            "text/plain": [
              "[(72, 'Messi'),\n",
              " (66, 'Ronaldo'),\n",
              " (40, 'Pele'),\n",
              " (32, 'Ronaldinho'),\n",
              " (30, 'Ganarcho')]"
            ]
          },
          "metadata": {},
          "execution_count": 56
        }
      ]
    },
    {
      "cell_type": "markdown",
      "source": [
        "#### groupByKey() - **Like GROUP BY in SQL**"
      ],
      "metadata": {
        "id": "-eOgJ3JBiIX3"
      }
    },
    {
      "cell_type": "code",
      "source": [
        "# List of Cities\n",
        "cities = [('Hanoi', 'Vietnam'), ('Hue', 'Vietnam'), ('HCM city', 'Vietnam'), ('Shanghai', 'China'), ('Beijing', 'China'), ('Kyoto', 'Japan'), ('Nagashima', 'Japan')]\n",
        "\n",
        "# Parallelize\n",
        "rdd13 = sc.parallelize(cities)\n",
        "\n",
        "# Reverse order\n",
        "rdd13 = rdd13.map(lambda x: (x[1], x[0]))\n",
        "pair_rdd13_group = rdd13.groupByKey().collect()\n",
        "\n",
        "for nation, city in pair_rdd13_group:\n",
        "  print(nation, list(city))"
      ],
      "metadata": {
        "colab": {
          "base_uri": "https://localhost:8080/"
        },
        "id": "xtIfO1zGhjkE",
        "outputId": "b9c617b3-0b57-4d29-f608-7ffb990d3998"
      },
      "execution_count": 57,
      "outputs": [
        {
          "output_type": "stream",
          "name": "stdout",
          "text": [
            "Vietnam ['Hanoi', 'Hue', 'HCM city']\n",
            "China ['Shanghai', 'Beijing']\n",
            "Japan ['Kyoto', 'Nagashima']\n"
          ]
        }
      ]
    },
    {
      "cell_type": "code",
      "source": [
        "# List of Airports\n",
        "airports = [('North', 'Noi Bai'), ('South', 'Tan Son Nhat'), ('Middle', 'Phu Bai'), ('North', 'Dien Bien'), ('North', 'Van Don'), ('South', 'Dong Thap'), ('Middle', 'Hue'),\n",
        "            ('Middle', 'Dong Hoi'), ('North', 'Cat Bi'), ('South', 'Can Tho'), ('South', 'Phu Quoc')]\n",
        "\n",
        "rdd14 = sc.parallelize(airports)\n",
        "rdd14_group = rdd14.groupByKey().collect()\n",
        "\n",
        "for zone, airport in rdd14_group:\n",
        "  print(zone, list(airport))"
      ],
      "metadata": {
        "colab": {
          "base_uri": "https://localhost:8080/"
        },
        "id": "MJ9vZ_G6jCgZ",
        "outputId": "e015859f-2e33-458c-e109-171106944c48"
      },
      "execution_count": 58,
      "outputs": [
        {
          "output_type": "stream",
          "name": "stdout",
          "text": [
            "North ['Noi Bai', 'Dien Bien', 'Van Don', 'Cat Bi']\n",
            "Middle ['Phu Bai', 'Hue', 'Dong Hoi']\n",
            "South ['Tan Son Nhat', 'Dong Thap', 'Can Tho', 'Phu Quoc']\n"
          ]
        }
      ]
    },
    {
      "cell_type": "markdown",
      "source": [
        "#### join() - **Like JOIN in SQL**"
      ],
      "metadata": {
        "id": "S-YICzU1_KwL"
      }
    },
    {
      "cell_type": "markdown",
      "source": [
        "*Example 1*"
      ],
      "metadata": {
        "id": "CRN5S9J8AR9S"
      }
    },
    {
      "cell_type": "code",
      "source": [
        "airports2 = [('North', 'Noi Bai'), ('South', 'Tan Son Nhat'), ('Middle', 'Phu Bai'), ('North', 'Dien Bien'), ('North', 'Van Don'), ('South', 'Dong Thap'), ('Middle', 'Hue'),\n",
        "            ('Middle', 'Dong Hoi'), ('North', 'Cat Bi'), ('South', 'Can Tho'), ('South', 'Phu Quoc'), ('South', 'Dong Thap'), ('Global', 'Changi'), ('Global', 'Shanghai')]\n",
        "\n",
        "rdd15 = sc.parallelize(airports2)\n",
        "rdd15.collect()"
      ],
      "metadata": {
        "colab": {
          "base_uri": "https://localhost:8080/"
        },
        "id": "0QU5_ETe_M8u",
        "outputId": "ce1892ec-c550-46ca-8469-4f53bfc330d7"
      },
      "execution_count": 59,
      "outputs": [
        {
          "output_type": "execute_result",
          "data": {
            "text/plain": [
              "[('North', 'Noi Bai'),\n",
              " ('South', 'Tan Son Nhat'),\n",
              " ('Middle', 'Phu Bai'),\n",
              " ('North', 'Dien Bien'),\n",
              " ('North', 'Van Don'),\n",
              " ('South', 'Dong Thap'),\n",
              " ('Middle', 'Hue'),\n",
              " ('Middle', 'Dong Hoi'),\n",
              " ('North', 'Cat Bi'),\n",
              " ('South', 'Can Tho'),\n",
              " ('South', 'Phu Quoc'),\n",
              " ('South', 'Dong Thap'),\n",
              " ('Global', 'Changi'),\n",
              " ('Global', 'Shanghai')]"
            ]
          },
          "metadata": {},
          "execution_count": 59
        }
      ]
    },
    {
      "cell_type": "code",
      "source": [
        "areas = [('North', 1), ('Middle', 2), ('South', 3), ('Global', 4)]\n",
        "rdd16 = sc.parallelize(areas)\n",
        "rdd16.collect()"
      ],
      "metadata": {
        "colab": {
          "base_uri": "https://localhost:8080/"
        },
        "id": "101RQEya_lb_",
        "outputId": "a2ab9765-85a6-4b25-ae3f-7710b13327aa"
      },
      "execution_count": 60,
      "outputs": [
        {
          "output_type": "execute_result",
          "data": {
            "text/plain": [
              "[('North', 1), ('Middle', 2), ('South', 3), ('Global', 4)]"
            ]
          },
          "metadata": {},
          "execution_count": 60
        }
      ]
    },
    {
      "cell_type": "code",
      "source": [
        "# Match 2 RDDs that have the same keys\n",
        "rdd15.join(rdd16).collect()"
      ],
      "metadata": {
        "colab": {
          "base_uri": "https://localhost:8080/"
        },
        "id": "KXVzadOT_zvO",
        "outputId": "b30b3299-4225-4c29-8cae-c6323f05391f"
      },
      "execution_count": 61,
      "outputs": [
        {
          "output_type": "execute_result",
          "data": {
            "text/plain": [
              "[('South', ('Tan Son Nhat', 3)),\n",
              " ('South', ('Dong Thap', 3)),\n",
              " ('South', ('Can Tho', 3)),\n",
              " ('South', ('Phu Quoc', 3)),\n",
              " ('South', ('Dong Thap', 3)),\n",
              " ('North', ('Noi Bai', 1)),\n",
              " ('North', ('Dien Bien', 1)),\n",
              " ('North', ('Van Don', 1)),\n",
              " ('North', ('Cat Bi', 1)),\n",
              " ('Middle', ('Phu Bai', 2)),\n",
              " ('Middle', ('Hue', 2)),\n",
              " ('Middle', ('Dong Hoi', 2)),\n",
              " ('Global', ('Changi', 4)),\n",
              " ('Global', ('Shanghai', 4))]"
            ]
          },
          "metadata": {},
          "execution_count": 61
        }
      ]
    },
    {
      "cell_type": "code",
      "source": [
        "# Reverse\n",
        "rdd16.join(rdd15).collect()"
      ],
      "metadata": {
        "colab": {
          "base_uri": "https://localhost:8080/"
        },
        "id": "xQuS0zelAB0f",
        "outputId": "1ab7ae0e-ae70-45a9-c5e1-60b58fd8ffda"
      },
      "execution_count": 62,
      "outputs": [
        {
          "output_type": "execute_result",
          "data": {
            "text/plain": [
              "[('South', (3, 'Tan Son Nhat')),\n",
              " ('South', (3, 'Dong Thap')),\n",
              " ('South', (3, 'Can Tho')),\n",
              " ('South', (3, 'Phu Quoc')),\n",
              " ('South', (3, 'Dong Thap')),\n",
              " ('North', (1, 'Noi Bai')),\n",
              " ('North', (1, 'Dien Bien')),\n",
              " ('North', (1, 'Van Don')),\n",
              " ('North', (1, 'Cat Bi')),\n",
              " ('Middle', (2, 'Phu Bai')),\n",
              " ('Middle', (2, 'Hue')),\n",
              " ('Middle', (2, 'Dong Hoi')),\n",
              " ('Global', (4, 'Changi')),\n",
              " ('Global', (4, 'Shanghai'))]"
            ]
          },
          "metadata": {},
          "execution_count": 62
        }
      ]
    },
    {
      "cell_type": "markdown",
      "source": [
        "*Example 2: There are some missing key values*"
      ],
      "metadata": {
        "id": "U-aZwxsgAXxx"
      }
    },
    {
      "cell_type": "code",
      "source": [
        "# List of Parks\n",
        "parks = [('Thu Le', 1992), ('Yen So', 1998), ('Thanh Cong', 2012), ('Nhat Le', 2011), ('Yen So', 1989), ('Hoa Binh', 2002)]\n",
        "rdd17 = sc.parallelize(parks)\n",
        "\n",
        "# List of Locations\n",
        "park_places = [('Thu Le', 'Ha Noi'), ('Yen So', 'Ha Tay'), ('Minh Khai', 'Ha Nam')]\n",
        "rdd18 = sc.parallelize(park_places)"
      ],
      "metadata": {
        "id": "qsyXpE0VAOE2"
      },
      "execution_count": 66,
      "outputs": []
    },
    {
      "cell_type": "code",
      "source": [
        "# JOIN 17 x 18\n",
        "rdd17.join(rdd18).collect()"
      ],
      "metadata": {
        "colab": {
          "base_uri": "https://localhost:8080/"
        },
        "id": "1eyb7YDdBGM_",
        "outputId": "9feb8826-8a45-4bfc-f346-f427ca0f1364"
      },
      "execution_count": 65,
      "outputs": [
        {
          "output_type": "execute_result",
          "data": {
            "text/plain": [
              "[('Yen So', (1998, 'Ha Tay')),\n",
              " ('Yen So', (1989, 'Ha Tay')),\n",
              " ('Thu Le', (1992, 'Ha Noi'))]"
            ]
          },
          "metadata": {},
          "execution_count": 65
        }
      ]
    },
    {
      "cell_type": "code",
      "source": [
        "# JOIN 18 x 17\n",
        "rdd18.join(rdd17).collect()"
      ],
      "metadata": {
        "colab": {
          "base_uri": "https://localhost:8080/"
        },
        "id": "gBYhKrN5BTMn",
        "outputId": "d93bc3ed-de4d-4bc3-b36a-4e4a2d69db38"
      },
      "execution_count": 67,
      "outputs": [
        {
          "output_type": "execute_result",
          "data": {
            "text/plain": [
              "[('Yen So', ('Ha Tay', 1998)),\n",
              " ('Yen So', ('Ha Tay', 1989)),\n",
              " ('Thu Le', ('Ha Noi', 1992))]"
            ]
          },
          "metadata": {},
          "execution_count": 67
        }
      ]
    },
    {
      "cell_type": "markdown",
      "source": [
        "#### reduce() - **Get all values from the RDD to do operations**"
      ],
      "metadata": {
        "id": "ohnd4CKQDm7S"
      }
    },
    {
      "cell_type": "markdown",
      "source": [
        "*Example 1*"
      ],
      "metadata": {
        "id": "Vo-c1THIEK4U"
      }
    },
    {
      "cell_type": "code",
      "source": [
        "rdd3.take(10)"
      ],
      "metadata": {
        "colab": {
          "base_uri": "https://localhost:8080/"
        },
        "id": "hqpJ3zoFDn7a",
        "outputId": "22ee800b-51eb-46d0-c6ea-f3c9defee19c"
      },
      "execution_count": 69,
      "outputs": [
        {
          "output_type": "execute_result",
          "data": {
            "text/plain": [
              "[1, 2, 3, 4, 5, 6, 7, 8, 9, 10]"
            ]
          },
          "metadata": {},
          "execution_count": 69
        }
      ]
    },
    {
      "cell_type": "code",
      "source": [
        "# Use reduce to calculate the sum of the entire array\n",
        "rdd3.reduce(lambda x, y: x+y)"
      ],
      "metadata": {
        "colab": {
          "base_uri": "https://localhost:8080/"
        },
        "id": "zZ_U-dHbDxq_",
        "outputId": "10488210-76b4-4561-9a26-96c07bb491b9"
      },
      "execution_count": 71,
      "outputs": [
        {
          "output_type": "execute_result",
          "data": {
            "text/plain": [
              "499500"
            ]
          },
          "metadata": {},
          "execution_count": 71
        }
      ]
    },
    {
      "cell_type": "markdown",
      "source": [
        "*Example 2*"
      ],
      "metadata": {
        "id": "uLljamzeEP3k"
      }
    },
    {
      "cell_type": "code",
      "source": [
        "x = [2, 3, 4, 2, 5, 1, 7, 4]\n",
        "rdd_numbers = sc.parallelize(x)\n",
        "\n",
        "# Multiply all numbers together\n",
        "rdd_numbers.reduce(lambda x, y: x*y)"
      ],
      "metadata": {
        "colab": {
          "base_uri": "https://localhost:8080/"
        },
        "id": "3eJtz6DUD6Df",
        "outputId": "bb4b2d9b-4dd6-468b-a51c-5d873934ee0b"
      },
      "execution_count": 72,
      "outputs": [
        {
          "output_type": "execute_result",
          "data": {
            "text/plain": [
              "6720"
            ]
          },
          "metadata": {},
          "execution_count": 72
        }
      ]
    },
    {
      "cell_type": "markdown",
      "source": [
        "#### saveAsTextFile() - **Save all partitions into separate files**"
      ],
      "metadata": {
        "id": "tV5wOSPZEvqb"
      }
    },
    {
      "cell_type": "code",
      "source": [
        "rdd_numbers.saveAsTextFile('TempFile')"
      ],
      "metadata": {
        "id": "oDldY7SuEfR_"
      },
      "execution_count": 82,
      "outputs": []
    },
    {
      "cell_type": "markdown",
      "source": [
        "#### coalesce() - **Save all partitions into 1 File**"
      ],
      "metadata": {
        "id": "BRnnmLpvFW0x"
      }
    },
    {
      "cell_type": "code",
      "source": [
        "rdd_numbers.coalesce(1).saveAsTextFile('TempFile2')"
      ],
      "metadata": {
        "id": "Qo5M5UyZFdM_"
      },
      "execution_count": 84,
      "outputs": []
    },
    {
      "cell_type": "markdown",
      "source": [
        "#### countByKey() - **Like COUNT() + GROUP BY in SQL**"
      ],
      "metadata": {
        "id": "jTeVQMPIGMO7"
      }
    },
    {
      "cell_type": "code",
      "source": [
        "airports2 = [('North', 'Noi Bai'), ('South', 'Tan Son Nhat'), ('Middle', 'Phu Bai'), ('North', 'Dien Bien'), ('North', 'Van Don'), ('South', 'Dong Thap'), ('Middle', 'Hue'),\n",
        "            ('Middle', 'Dong Hoi'), ('North', 'Cat Bi'), ('South', 'Can Tho'), ('South', 'Phu Quoc'), ('South', 'Dong Thap'), ('Global', 'Changi'), ('Global', 'Shanghai')]\n",
        "\n",
        "rdd19 = sc.parallelize(airports2)\n",
        "for key, value in rdd19.countByKey().items():\n",
        "  print(key, value)"
      ],
      "metadata": {
        "colab": {
          "base_uri": "https://localhost:8080/"
        },
        "id": "mDfKiw_cFkTv",
        "outputId": "1f228a6a-26ad-4fce-8642-65887314ad81"
      },
      "execution_count": 85,
      "outputs": [
        {
          "output_type": "stream",
          "name": "stdout",
          "text": [
            "North 4\n",
            "South 5\n",
            "Middle 3\n",
            "Global 2\n"
          ]
        }
      ]
    },
    {
      "cell_type": "markdown",
      "source": [
        "#### collectAsMap() - **Input Tuples to get Dictionary-type**"
      ],
      "metadata": {
        "id": "hUCLQD-AHHwi"
      }
    },
    {
      "cell_type": "markdown",
      "source": [
        "*Note: can be used as an alternative for collect()*"
      ],
      "metadata": {
        "id": "5XV2g_tbHpXC"
      }
    },
    {
      "cell_type": "code",
      "source": [
        "cities = [('Hanoi', 'Vietnam'), ('Hue', 'Vietnam'), ('HCM city', 'Vietnam'), ('Shanghai', 'China'), ('Beijing', 'China'), ('Kyoto', 'Japan'), ('Nagashima', 'Japan')]\n",
        "\n",
        "sc.parallelize(cities).collectAsMap()"
      ],
      "metadata": {
        "colab": {
          "base_uri": "https://localhost:8080/"
        },
        "id": "dLgPF7TbGotQ",
        "outputId": "4cd19c51-a150-48bb-859a-c946ffe1e2f2"
      },
      "execution_count": 89,
      "outputs": [
        {
          "output_type": "execute_result",
          "data": {
            "text/plain": [
              "{'Hanoi': 'Vietnam',\n",
              " 'Hue': 'Vietnam',\n",
              " 'HCM city': 'Vietnam',\n",
              " 'Shanghai': 'China',\n",
              " 'Beijing': 'China',\n",
              " 'Kyoto': 'Japan',\n",
              " 'Nagashima': 'Japan'}"
            ]
          },
          "metadata": {},
          "execution_count": 89
        }
      ]
    }
  ]
}