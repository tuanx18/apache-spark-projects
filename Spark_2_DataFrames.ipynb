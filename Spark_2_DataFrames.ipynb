{
  "nbformat": 4,
  "nbformat_minor": 0,
  "metadata": {
    "colab": {
      "provenance": []
    },
    "kernelspec": {
      "name": "python3",
      "display_name": "Python 3"
    },
    "language_info": {
      "name": "python"
    }
  },
  "cells": [
    {
      "cell_type": "code",
      "source": [
        "from google.colab import drive\n",
        "\n",
        "# Mount Google Drive\n",
        "drive.mount('/content/drive')"
      ],
      "metadata": {
        "colab": {
          "base_uri": "https://localhost:8080/"
        },
        "id": "gAH2ek7DPiEZ",
        "outputId": "b41c003c-df48-4060-86ce-6ea51f348946"
      },
      "execution_count": 1,
      "outputs": [
        {
          "output_type": "stream",
          "name": "stdout",
          "text": [
            "Mounted at /content/drive\n"
          ]
        }
      ]
    },
    {
      "cell_type": "markdown",
      "source": [
        "## Install Pyspark"
      ],
      "metadata": {
        "id": "PZ1GSkFrC0Rq"
      }
    },
    {
      "cell_type": "code",
      "source": [
        "!pip install pyspark"
      ],
      "metadata": {
        "colab": {
          "base_uri": "https://localhost:8080/"
        },
        "id": "vwtqGqEHA5BR",
        "outputId": "4e845b90-10ac-49e4-aa4d-2e6fda73c209"
      },
      "execution_count": 2,
      "outputs": [
        {
          "output_type": "stream",
          "name": "stdout",
          "text": [
            "Collecting pyspark\n",
            "  Downloading pyspark-3.5.0.tar.gz (316.9 MB)\n",
            "\u001b[2K     \u001b[90m━━━━━━━━━━━━━━━━━━━━━━━━━━━━━━━━━━━━━━━━\u001b[0m \u001b[32m316.9/316.9 MB\u001b[0m \u001b[31m2.5 MB/s\u001b[0m eta \u001b[36m0:00:00\u001b[0m\n",
            "\u001b[?25h  Preparing metadata (setup.py) ... \u001b[?25l\u001b[?25hdone\n",
            "Requirement already satisfied: py4j==0.10.9.7 in /usr/local/lib/python3.10/dist-packages (from pyspark) (0.10.9.7)\n",
            "Building wheels for collected packages: pyspark\n",
            "  Building wheel for pyspark (setup.py) ... \u001b[?25l\u001b[?25hdone\n",
            "  Created wheel for pyspark: filename=pyspark-3.5.0-py2.py3-none-any.whl size=317425344 sha256=3f3517ca2a7d877534fe9d4ec192e99329663a78911fc9e8d04d88e55929eebd\n",
            "  Stored in directory: /root/.cache/pip/wheels/41/4e/10/c2cf2467f71c678cfc8a6b9ac9241e5e44a01940da8fbb17fc\n",
            "Successfully built pyspark\n",
            "Installing collected packages: pyspark\n",
            "Successfully installed pyspark-3.5.0\n"
          ]
        }
      ]
    },
    {
      "cell_type": "markdown",
      "source": [
        "## Set up the environment for SparkSession and SparkContext"
      ],
      "metadata": {
        "id": "Ju_2N44nC6dw"
      }
    },
    {
      "cell_type": "code",
      "execution_count": 3,
      "metadata": {
        "id": "MxKoYH8h_6Xf"
      },
      "outputs": [],
      "source": [
        "from pyspark import SparkContext"
      ]
    },
    {
      "cell_type": "code",
      "source": [
        "from pyspark.sql import SparkSession\n",
        "\n",
        "# Create a SparkSession\n",
        "spark = SparkSession.builder.appName(\"PySpark1\").getOrCreate()\n",
        "\n",
        "# Get the SparkContext from the SparkSession\n",
        "sc = spark.sparkContext"
      ],
      "metadata": {
        "id": "U0XuCGI8Bujo"
      },
      "execution_count": 4,
      "outputs": []
    },
    {
      "cell_type": "code",
      "source": [
        "# Spark version\n",
        "sc.version"
      ],
      "metadata": {
        "colab": {
          "base_uri": "https://localhost:8080/",
          "height": 36
        },
        "id": "168tRDLwAcsA",
        "outputId": "ee897bfe-57a2-4ebb-e5f3-0d19f7bb1017"
      },
      "execution_count": 5,
      "outputs": [
        {
          "output_type": "execute_result",
          "data": {
            "text/plain": [
              "'3.5.0'"
            ],
            "application/vnd.google.colaboratory.intrinsic+json": {
              "type": "string"
            }
          },
          "metadata": {},
          "execution_count": 5
        }
      ]
    },
    {
      "cell_type": "code",
      "source": [
        "# PySpark version\n",
        "sc.pythonVer"
      ],
      "metadata": {
        "colab": {
          "base_uri": "https://localhost:8080/",
          "height": 36
        },
        "id": "QfvS-n_fBP3v",
        "outputId": "ed827d87-d870-44b8-86f3-65de796653b9"
      },
      "execution_count": 6,
      "outputs": [
        {
          "output_type": "execute_result",
          "data": {
            "text/plain": [
              "'3.10'"
            ],
            "application/vnd.google.colaboratory.intrinsic+json": {
              "type": "string"
            }
          },
          "metadata": {},
          "execution_count": 6
        }
      ]
    },
    {
      "cell_type": "code",
      "source": [
        "# Master location\n",
        "sc.master"
      ],
      "metadata": {
        "colab": {
          "base_uri": "https://localhost:8080/",
          "height": 36
        },
        "id": "RKpoDO6dDIM4",
        "outputId": "1564f950-00ad-45f2-9388-e46475fd07af"
      },
      "execution_count": 7,
      "outputs": [
        {
          "output_type": "execute_result",
          "data": {
            "text/plain": [
              "'local[*]'"
            ],
            "application/vnd.google.colaboratory.intrinsic+json": {
              "type": "string"
            }
          },
          "metadata": {},
          "execution_count": 7
        }
      ]
    },
    {
      "cell_type": "markdown",
      "source": [
        "Currently, the SparkSession is running in local (it can be either **Local** or Cluster)"
      ],
      "metadata": {
        "id": "PjirV_XeDLqo"
      }
    },
    {
      "cell_type": "markdown",
      "source": [
        "## Get familiar with PySpark DataFrame\n",
        "\n",
        "\n",
        "\n"
      ],
      "metadata": {
        "id": "0U1KOLzaDU5Q"
      }
    },
    {
      "cell_type": "markdown",
      "source": [
        "#### Create a dataframe using SparkSession"
      ],
      "metadata": {
        "id": "EZ_vketUMXTn"
      }
    },
    {
      "cell_type": "code",
      "source": [
        "# Define animals\n",
        "animals = [\n",
        "    (\"Cat\", 3, 12, \"Eat meat\", \"30 kg\"),\n",
        "    (\"Dog\", 3, 15, \"Eat meat and vegetables\", \"70 kg\"),\n",
        "    (\"Mouse\", 5, 2, \"Eat grass\", \"800 grams\"),\n",
        "    (\"Camel\", 5, 30, \"Eat dry vegetables\", \"400 kg\"),\n",
        "    (\"Elephant\", 8, 50, \"Eat grass\", \"4 tons\"),\n",
        "]\n",
        "\n",
        "# Define header (schema)\n",
        "headers = (\"Animal name\", \"Number of letters\", \"Age\", \"Food\", \"Max Weight\")"
      ],
      "metadata": {
        "id": "iDL_Mev5MWIp"
      },
      "execution_count": 8,
      "outputs": []
    },
    {
      "cell_type": "code",
      "source": [
        "# Create dataframe using Spark\n",
        "animal_df = spark.createDataFrame(animals, schema=headers)"
      ],
      "metadata": {
        "id": "hkAnTuBjNMj4"
      },
      "execution_count": 9,
      "outputs": []
    },
    {
      "cell_type": "code",
      "source": [
        "animal_df.collect()"
      ],
      "metadata": {
        "colab": {
          "base_uri": "https://localhost:8080/"
        },
        "id": "MPH27V0QNjAv",
        "outputId": "3a2affbb-b1c4-438f-dbd2-7dcd01c0249f"
      },
      "execution_count": 10,
      "outputs": [
        {
          "output_type": "execute_result",
          "data": {
            "text/plain": [
              "[Row(Animal name='Cat', Number of letters=3, Age=12, Food='Eat meat', Max Weight='30 kg'),\n",
              " Row(Animal name='Dog', Number of letters=3, Age=15, Food='Eat meat and vegetables', Max Weight='70 kg'),\n",
              " Row(Animal name='Mouse', Number of letters=5, Age=2, Food='Eat grass', Max Weight='800 grams'),\n",
              " Row(Animal name='Camel', Number of letters=5, Age=30, Food='Eat dry vegetables', Max Weight='400 kg'),\n",
              " Row(Animal name='Elephant', Number of letters=8, Age=50, Food='Eat grass', Max Weight='4 tons')]"
            ]
          },
          "metadata": {},
          "execution_count": 10
        }
      ]
    },
    {
      "cell_type": "code",
      "source": [
        "type(animal_df)"
      ],
      "metadata": {
        "colab": {
          "base_uri": "https://localhost:8080/"
        },
        "id": "Hi_omYohNntH",
        "outputId": "febdaf60-8784-41b1-e6c7-afe7abff919f"
      },
      "execution_count": 11,
      "outputs": [
        {
          "output_type": "execute_result",
          "data": {
            "text/plain": [
              "pyspark.sql.dataframe.DataFrame"
            ]
          },
          "metadata": {},
          "execution_count": 11
        }
      ]
    },
    {
      "cell_type": "markdown",
      "source": [
        "#### Create a dataframe using CSV/JSON/TXT file"
      ],
      "metadata": {
        "id": "aZNU4cTFOOCY"
      }
    },
    {
      "cell_type": "code",
      "source": [
        "file_path = '/content/drive/My Drive/Research Data/Insect_PT.csv'\n",
        "insect_df = spark.read.csv(file_path, header=True, inferSchema=True)"
      ],
      "metadata": {
        "id": "fhmOb75yOANn"
      },
      "execution_count": 12,
      "outputs": []
    },
    {
      "cell_type": "code",
      "source": [
        "insect_df.printSchema()"
      ],
      "metadata": {
        "colab": {
          "base_uri": "https://localhost:8080/"
        },
        "id": "OcmtIuQ9TFTQ",
        "outputId": "c943d249-f9c4-412b-a9ac-a7cee9493044"
      },
      "execution_count": 13,
      "outputs": [
        {
          "output_type": "stream",
          "name": "stdout",
          "text": [
            "root\n",
            " |-- insectID: integer (nullable = true)\n",
            " |-- insect_name: string (nullable = true)\n",
            " |-- price: integer (nullable = true)\n",
            " |-- crown: integer (nullable = true)\n",
            " |-- location: string (nullable = true)\n",
            " |-- date_caught: string (nullable = true)\n",
            " |-- pole: string (nullable = true)\n",
            "\n"
          ]
        }
      ]
    },
    {
      "cell_type": "code",
      "source": [
        "insect_df.take(6)"
      ],
      "metadata": {
        "colab": {
          "base_uri": "https://localhost:8080/"
        },
        "id": "J_iaC2zlOrYY",
        "outputId": "cbb7e88c-d186-4660-ac92-503c4e367772"
      },
      "execution_count": 14,
      "outputs": [
        {
          "output_type": "execute_result",
          "data": {
            "text/plain": [
              "[Row(insectID=1, insect_name='nhen thay ma', price=30, crown=None, location='plaza', date_caught='10/17/2023 12:12', pole='DARK'),\n",
              " Row(insectID=2, insect_name='buom trang', price=68, crown=None, location='plaza', date_caught='10/17/2023 12:12', pole='DARK'),\n",
              " Row(insectID=3, insect_name='hop tien sao', price=100, crown=None, location='camp', date_caught='10/17/2023 14:42', pole='DARK'),\n",
              " Row(insectID=4, insect_name='bo hung thay ma', price=62, crown=None, location='camp', date_caught='10/17/2023 14:48', pole='DARK'),\n",
              " Row(insectID=5, insect_name='ran', price=20, crown=None, location='camp', date_caught='10/17/2023 14:48', pole='DARK'),\n",
              " Row(insectID=6, insect_name='buom vang', price=51, crown=1, location='camp', date_caught='10/17/2023 14:49', pole='DARK')]"
            ]
          },
          "metadata": {},
          "execution_count": 14
        }
      ]
    },
    {
      "cell_type": "markdown",
      "source": [
        "#### show() - **Print the Dataframe**"
      ],
      "metadata": {
        "id": "m94h54wBVNgh"
      }
    },
    {
      "cell_type": "code",
      "source": [
        "# Show top 20 rows (default = 20)\n",
        "insect_df.show()"
      ],
      "metadata": {
        "colab": {
          "base_uri": "https://localhost:8080/"
        },
        "id": "IVHp0V-KVTa4",
        "outputId": "90e98d84-aa0e-4b29-8c58-a324a482bcb5"
      },
      "execution_count": 15,
      "outputs": [
        {
          "output_type": "stream",
          "name": "stdout",
          "text": [
            "+--------+--------------------+-----+-----+--------+----------------+----+\n",
            "|insectID|         insect_name|price|crown|location|     date_caught|pole|\n",
            "+--------+--------------------+-----+-----+--------+----------------+----+\n",
            "|       1|        nhen thay ma|   30| NULL|   plaza|10/17/2023 12:12|DARK|\n",
            "|       2|          buom trang|   68| NULL|   plaza|10/17/2023 12:12|DARK|\n",
            "|       3|        hop tien sao|  100| NULL|    camp|10/17/2023 14:42|DARK|\n",
            "|       4|     bo hung thay ma|   62| NULL|    camp|10/17/2023 14:48|DARK|\n",
            "|       5|                 ran|   20| NULL|    camp|10/17/2023 14:48|DARK|\n",
            "|       6|           buom vang|   51|    1|    camp|10/17/2023 14:49|DARK|\n",
            "|       7|           buom vang|   26| NULL|    camp|10/17/2023 14:49|DARK|\n",
            "|       8|              ve sau|   64| NULL|    camp|10/17/2023 14:49|DARK|\n",
            "|       9|chuon chuon duoi ...|   60| NULL|    camp|10/17/2023 14:49|DARK|\n",
            "|      10|          buom trang|   69| NULL|    camp|10/17/2023 14:49|DARK|\n",
            "|      11|          ve sau dau|   61| NULL|    camp|10/17/2023 14:50|DARK|\n",
            "|      12|                 ran|   20| NULL|    camp|10/17/2023 14:50|DARK|\n",
            "|      13|      oc sen thay ma|   27| NULL|    camp|10/17/2023 14:51|DARK|\n",
            "|      14|           chau chau|   70| NULL|hometown|10/17/2023 14:51|DARK|\n",
            "|      15|           buom vang|   22| NULL|hometown|10/17/2023 14:51|DARK|\n",
            "|      16|chuon chuon duoi ...|   62| NULL|hometown|10/17/2023 14:52|DARK|\n",
            "|      17|      chuon chuon ot|  126|    1|hometown|10/17/2023 14:52|DARK|\n",
            "|      18|      chuon chuon ot|   61| NULL|hometown|10/17/2023 14:53|DARK|\n",
            "|      19|             cao cao|  131|    1|hometown|10/17/2023 14:53|DARK|\n",
            "|      20|                 ong|   21| NULL|hometown|10/17/2023 14:53|DARK|\n",
            "+--------+--------------------+-----+-----+--------+----------------+----+\n",
            "only showing top 20 rows\n",
            "\n"
          ]
        }
      ]
    },
    {
      "cell_type": "code",
      "source": [
        "# Show 40 rows\n",
        "insect_df.show(40)"
      ],
      "metadata": {
        "colab": {
          "base_uri": "https://localhost:8080/"
        },
        "id": "C0-RIjr4VqsS",
        "outputId": "e4bf6958-38dd-4843-9a42-23115ab838e1"
      },
      "execution_count": 16,
      "outputs": [
        {
          "output_type": "stream",
          "name": "stdout",
          "text": [
            "+--------+--------------------+-----+-----+--------+----------------+----+\n",
            "|insectID|         insect_name|price|crown|location|     date_caught|pole|\n",
            "+--------+--------------------+-----+-----+--------+----------------+----+\n",
            "|       1|        nhen thay ma|   30| NULL|   plaza|10/17/2023 12:12|DARK|\n",
            "|       2|          buom trang|   68| NULL|   plaza|10/17/2023 12:12|DARK|\n",
            "|       3|        hop tien sao|  100| NULL|    camp|10/17/2023 14:42|DARK|\n",
            "|       4|     bo hung thay ma|   62| NULL|    camp|10/17/2023 14:48|DARK|\n",
            "|       5|                 ran|   20| NULL|    camp|10/17/2023 14:48|DARK|\n",
            "|       6|           buom vang|   51|    1|    camp|10/17/2023 14:49|DARK|\n",
            "|       7|           buom vang|   26| NULL|    camp|10/17/2023 14:49|DARK|\n",
            "|       8|              ve sau|   64| NULL|    camp|10/17/2023 14:49|DARK|\n",
            "|       9|chuon chuon duoi ...|   60| NULL|    camp|10/17/2023 14:49|DARK|\n",
            "|      10|          buom trang|   69| NULL|    camp|10/17/2023 14:49|DARK|\n",
            "|      11|          ve sau dau|   61| NULL|    camp|10/17/2023 14:50|DARK|\n",
            "|      12|                 ran|   20| NULL|    camp|10/17/2023 14:50|DARK|\n",
            "|      13|      oc sen thay ma|   27| NULL|    camp|10/17/2023 14:51|DARK|\n",
            "|      14|           chau chau|   70| NULL|hometown|10/17/2023 14:51|DARK|\n",
            "|      15|           buom vang|   22| NULL|hometown|10/17/2023 14:51|DARK|\n",
            "|      16|chuon chuon duoi ...|   62| NULL|hometown|10/17/2023 14:52|DARK|\n",
            "|      17|      chuon chuon ot|  126|    1|hometown|10/17/2023 14:52|DARK|\n",
            "|      18|      chuon chuon ot|   61| NULL|hometown|10/17/2023 14:53|DARK|\n",
            "|      19|             cao cao|  131|    1|hometown|10/17/2023 14:53|DARK|\n",
            "|      20|                 ong|   21| NULL|hometown|10/17/2023 14:53|DARK|\n",
            "|      21|chau chau canh thang|   41| NULL|hometown|10/17/2023 14:54|DARK|\n",
            "|      22|              oc sen|   20| NULL|hometown|10/17/2023 14:54|DARK|\n",
            "|      23|             cao cao|   69| NULL|   plaza|10/17/2023 14:54|DARK|\n",
            "|      24|chuon chuon duoi ...|   63| NULL|   plaza|10/17/2023 14:56|DARK|\n",
            "|      25|     buom dem van ho|   20| NULL|   plaza|10/17/2023 14:56|DARK|\n",
            "|      26| bo da quy victorina|  120|    1|    camp|10/17/2023 14:56|DARK|\n",
            "|      27|             bo hung|  163|    1|    camp|10/17/2023 14:57|DARK|\n",
            "|      28|                kien|   43|    1|    camp|10/17/2023 14:58|DARK|\n",
            "|      29|                  de|   63| NULL|   plaza|10/17/2023 14:59|DARK|\n",
            "|      30|    bo hung nam sung|  222| NULL|   plaza|10/17/2023 14:59|DARK|\n",
            "|      31|     buom dem van ho|   21| NULL|   plaza|10/17/2023 15:00|DARK|\n",
            "|      32|             bo hung|  110| NULL|   plaza|10/17/2023 15:00|DARK|\n",
            "|      33|bo canh cung xanh la|   20| NULL|   plaza|10/17/2023 15:00|DARK|\n",
            "|      34|  chau chau sung dai|   21| NULL|    city|10/17/2023 15:01|DARK|\n",
            "|      35|  chau chau sung dai|   28| NULL|    city|10/17/2023 15:01|DARK|\n",
            "|      36|                  de|   64| NULL|    city|10/17/2023 15:03|DARK|\n",
            "|      37|                  de|   63| NULL|    city|10/17/2023 15:03|DARK|\n",
            "|      38|    than lan bao dom|   94| NULL|    city|10/17/2023 15:03|DARK|\n",
            "|      39|          tac ke mao|  161| NULL|    city|10/17/2023 15:04|DARK|\n",
            "|      40|             de nhat|   20| NULL|    city|10/17/2023 15:04|DARK|\n",
            "+--------+--------------------+-----+-----+--------+----------------+----+\n",
            "only showing top 40 rows\n",
            "\n"
          ]
        }
      ]
    },
    {
      "cell_type": "markdown",
      "source": [
        "#### select() - **Just like SELECT in SQL**"
      ],
      "metadata": {
        "id": "Nyu91ftMRKkB"
      }
    },
    {
      "cell_type": "code",
      "source": [
        "# Store all 'insect_name' from dataset to variable \"insect_type\"\n",
        "insect_type = insect_df.select('insect_name')"
      ],
      "metadata": {
        "id": "x1ln3agNQGFP"
      },
      "execution_count": 17,
      "outputs": []
    },
    {
      "cell_type": "code",
      "source": [
        "# Show 20 (default) rows of insect_name\n",
        "insect_type.show()"
      ],
      "metadata": {
        "colab": {
          "base_uri": "https://localhost:8080/"
        },
        "id": "ydR-UutdUcpR",
        "outputId": "9099d636-871d-4aa8-df65-495258de8286"
      },
      "execution_count": 18,
      "outputs": [
        {
          "output_type": "stream",
          "name": "stdout",
          "text": [
            "+--------------------+\n",
            "|         insect_name|\n",
            "+--------------------+\n",
            "|        nhen thay ma|\n",
            "|          buom trang|\n",
            "|        hop tien sao|\n",
            "|     bo hung thay ma|\n",
            "|                 ran|\n",
            "|           buom vang|\n",
            "|           buom vang|\n",
            "|              ve sau|\n",
            "|chuon chuon duoi ...|\n",
            "|          buom trang|\n",
            "|          ve sau dau|\n",
            "|                 ran|\n",
            "|      oc sen thay ma|\n",
            "|           chau chau|\n",
            "|           buom vang|\n",
            "|chuon chuon duoi ...|\n",
            "|      chuon chuon ot|\n",
            "|      chuon chuon ot|\n",
            "|             cao cao|\n",
            "|                 ong|\n",
            "+--------------------+\n",
            "only showing top 20 rows\n",
            "\n"
          ]
        }
      ]
    },
    {
      "cell_type": "code",
      "source": [
        "# Store all 'price' from dataset to variable \"insect_price\"\n",
        "insect_price = insect_df.select('price')"
      ],
      "metadata": {
        "id": "AJotU7eNUTQv"
      },
      "execution_count": 19,
      "outputs": []
    },
    {
      "cell_type": "code",
      "source": [
        "# Show 7 rows of 'price'\n",
        "insect_price.show(7)"
      ],
      "metadata": {
        "colab": {
          "base_uri": "https://localhost:8080/"
        },
        "id": "XxC9CFxBUYvv",
        "outputId": "c7845c34-d833-4563-f5b3-5960ba866d84"
      },
      "execution_count": 20,
      "outputs": [
        {
          "output_type": "stream",
          "name": "stdout",
          "text": [
            "+-----+\n",
            "|price|\n",
            "+-----+\n",
            "|   30|\n",
            "|   68|\n",
            "|  100|\n",
            "|   62|\n",
            "|   20|\n",
            "|   51|\n",
            "|   26|\n",
            "+-----+\n",
            "only showing top 7 rows\n",
            "\n"
          ]
        }
      ]
    },
    {
      "cell_type": "code",
      "source": [
        "# Store more than 1 column\n",
        "insect_df_3col = insect_df.select('insect_name', 'price', 'crown')\n",
        "insect_df_3col.show(6)"
      ],
      "metadata": {
        "colab": {
          "base_uri": "https://localhost:8080/"
        },
        "id": "ILWpNwvmcEVC",
        "outputId": "8c3955a8-1a15-47f3-8aed-19c88d93827e"
      },
      "execution_count": 21,
      "outputs": [
        {
          "output_type": "stream",
          "name": "stdout",
          "text": [
            "+---------------+-----+-----+\n",
            "|    insect_name|price|crown|\n",
            "+---------------+-----+-----+\n",
            "|   nhen thay ma|   30| NULL|\n",
            "|     buom trang|   68| NULL|\n",
            "|   hop tien sao|  100| NULL|\n",
            "|bo hung thay ma|   62| NULL|\n",
            "|            ran|   20| NULL|\n",
            "|      buom vang|   51|    1|\n",
            "+---------------+-----+-----+\n",
            "only showing top 6 rows\n",
            "\n"
          ]
        }
      ]
    },
    {
      "cell_type": "markdown",
      "source": [
        "#### filter() - **Like WHERE in SQL, it is used to get rows based on conditions**"
      ],
      "metadata": {
        "id": "sx-McKU3WL3B"
      }
    },
    {
      "cell_type": "code",
      "source": [
        "# Get all the insect records with 'price' is exactly 28\n",
        "insect_df_price28 = insect_df.filter(insect_df.price == 28)\n",
        "insect_df_price28.show(4)"
      ],
      "metadata": {
        "colab": {
          "base_uri": "https://localhost:8080/"
        },
        "id": "cOM-3fDYWRJL",
        "outputId": "d14c1a22-ddf2-49d9-a837-c62997b433a5"
      },
      "execution_count": 22,
      "outputs": [
        {
          "output_type": "stream",
          "name": "stdout",
          "text": [
            "+--------+------------------+-----+-----+--------+----------------+----+\n",
            "|insectID|       insect_name|price|crown|location|     date_caught|pole|\n",
            "+--------+------------------+-----+-----+--------+----------------+----+\n",
            "|      35|chau chau sung dai|   28| NULL|    city|10/17/2023 15:01|DARK|\n",
            "|      70|  than lan bao dom|   28| NULL|    city|10/17/2023 16:35|DARK|\n",
            "|     164|      nhen thay ma|   28| NULL|    camp|10/17/2023 17:14|DARK|\n",
            "|     217|chau chau sung dai|   28| NULL|    city|10/17/2023 23:33|DARK|\n",
            "+--------+------------------+-----+-----+--------+----------------+----+\n",
            "only showing top 4 rows\n",
            "\n"
          ]
        }
      ]
    },
    {
      "cell_type": "code",
      "source": [
        "# Get all the insect records with 'price' is exactly 56 or 500\n",
        "insect_df_pricex = insect_df.filter((insect_df.price == 56) | (insect_df.price == 500))\n",
        "insect_df_pricex.show()"
      ],
      "metadata": {
        "colab": {
          "base_uri": "https://localhost:8080/"
        },
        "id": "2_YAYLGwWmqA",
        "outputId": "4f8d3c11-fd58-4456-a7fa-cb5ec49a3799"
      },
      "execution_count": 23,
      "outputs": [
        {
          "output_type": "stream",
          "name": "stdout",
          "text": [
            "+--------+--------------------+-----+-----+--------+----------------+----+\n",
            "|insectID|         insect_name|price|crown|location|     date_caught|pole|\n",
            "+--------+--------------------+-----+-----+--------+----------------+----+\n",
            "|     221|    than lan bao dom|   56| NULL|    city|10/17/2023 23:34|DARK|\n",
            "|     549|    than lan bao dom|   56| NULL|   plaza|10/18/2023 15:07|NULL|\n",
            "|     704|chau chau canh thang|   56|    1|hometown|10/18/2023 19:15|NULL|\n",
            "|     799|    than lan bao dom|   56| NULL|    city|10/18/2023 23:58|NULL|\n",
            "|    3203|          chuot cong|   56| NULL|   sewer|10/24/2023 17:53|NULL|\n",
            "|    3271|chuon chuon ngo h...|  500|    1|    city|10/25/2023 15:24|NULL|\n",
            "+--------+--------------------+-----+-----+--------+----------------+----+\n",
            "\n"
          ]
        }
      ]
    },
    {
      "cell_type": "code",
      "source": [
        "# Get all the insect records with 'price' in one of these range: 54 to 55, 238 to 240, 499 to 501\n",
        "insect_df_price_range = insect_df.filter(\n",
        "    ((insect_df.price >= 54) & (insect_df.price <= 55)) | ((insect_df.price >= 238) & (insect_df.price <= 240)) | ((insect_df.price >= 499) & (insect_df.price <= 501)))\n",
        "insect_df_price_range.show()"
      ],
      "metadata": {
        "colab": {
          "base_uri": "https://localhost:8080/"
        },
        "id": "WS3mcCiLXDkf",
        "outputId": "5d1f31b7-7550-48e4-b9c9-8d06cfdd411b"
      },
      "execution_count": 24,
      "outputs": [
        {
          "output_type": "stream",
          "name": "stdout",
          "text": [
            "+--------+--------------------+-----+-----+--------+----------------+----+\n",
            "|insectID|         insect_name|price|crown|location|     date_caught|pole|\n",
            "+--------+--------------------+-----+-----+--------+----------------+----+\n",
            "|     785|        nhen thay ma|   54|    1|   sewer|10/18/2023 23:50|NULL|\n",
            "|     924|          chuot cong|   54| NULL|   sewer| 10/19/2023 2:08|NULL|\n",
            "|     925|          chuot cong|   54| NULL|   sewer| 10/19/2023 2:09|NULL|\n",
            "|    1001|    than lan bao dom|   55| NULL|   plaza| 10/19/2023 2:38|NULL|\n",
            "|    1200| buom phuong machaon|  238| NULL|hometown|10/19/2023 16:11|NULL|\n",
            "|    1802|chau chau canh thang|   55|    1|hometown|10/21/2023 22:46|NULL|\n",
            "|    2113|    than lan bao dom|   54| NULL|    city|10/22/2023 10:30|NULL|\n",
            "|    2230|          tac ke mao|  238|    1|    city|10/22/2023 13:31|NULL|\n",
            "|    3000|    than lan bao dom|   55|    1|    city|10/24/2023 12:28|NULL|\n",
            "|    3039|chau chau canh thang|   55|    1|hometown|10/24/2023 12:47|NULL|\n",
            "|    3271|chuon chuon ngo h...|  500|    1|    city|10/25/2023 15:24|NULL|\n",
            "|    3341|chuon chuon truon...|  501|    1|hometown|10/25/2023 17:15|NULL|\n",
            "|    3545|    than lan bao dom|   55| NULL|    city|10/26/2023 12:30|NULL|\n",
            "+--------+--------------------+-----+-----+--------+----------------+----+\n",
            "\n"
          ]
        }
      ]
    },
    {
      "cell_type": "markdown",
      "source": [
        "#### groupby() + count() – **Like COUNT() + GROUP BY in SQL, but stored in a variable**"
      ],
      "metadata": {
        "id": "M-kF_q_nYwUR"
      }
    },
    {
      "cell_type": "code",
      "source": [
        "# Group the table by location, then get the value counts for each group\n",
        "insect_location_group = insect_df.groupby('location')\n",
        "insect_location_group.count().show()"
      ],
      "metadata": {
        "colab": {
          "base_uri": "https://localhost:8080/"
        },
        "id": "Un8NdtkfYBMD",
        "outputId": "10aac62c-b1a7-49c0-d8ba-1abd0adc1546"
      },
      "execution_count": 25,
      "outputs": [
        {
          "output_type": "stream",
          "name": "stdout",
          "text": [
            "+--------+-----+\n",
            "|location|count|\n",
            "+--------+-----+\n",
            "|hometown| 1235|\n",
            "|   sewer|  419|\n",
            "|    camp|  785|\n",
            "|    city| 1233|\n",
            "|   plaza|  813|\n",
            "+--------+-----+\n",
            "\n"
          ]
        }
      ]
    },
    {
      "cell_type": "code",
      "source": [
        "# Group the table by insect_name, the get value counts for each group\n",
        "insect_name_group = insect_df.groupby('insect_name')\n",
        "insect_name_group.count().show(3)"
      ],
      "metadata": {
        "colab": {
          "base_uri": "https://localhost:8080/"
        },
        "id": "ZaQzReSNZGpi",
        "outputId": "2bd6ffc2-ff0c-41eb-8b91-103e7779a395"
      },
      "execution_count": 26,
      "outputs": [
        {
          "output_type": "stream",
          "name": "stdout",
          "text": [
            "+------------------+-----+\n",
            "|       insect_name|count|\n",
            "+------------------+-----+\n",
            "|                �e|    2|\n",
            "|chau chau sung dai|  169|\n",
            "|    buom xanh holy|  188|\n",
            "+------------------+-----+\n",
            "only showing top 3 rows\n",
            "\n"
          ]
        }
      ]
    },
    {
      "cell_type": "markdown",
      "source": [
        "#### dropDuplicates() – **Remove Duplications based on 1 or more column**"
      ],
      "metadata": {
        "id": "fPalIrYva9s0"
      }
    },
    {
      "cell_type": "code",
      "source": [
        "# Remove all records that exist their duplicated \"price\"\n",
        "insect_no_price = insect_df.select('price').dropDuplicates()\n",
        "insect_no_price.show()"
      ],
      "metadata": {
        "colab": {
          "base_uri": "https://localhost:8080/"
        },
        "id": "Oc12yyYTZ6qe",
        "outputId": "9f4df70d-5e05-4bdb-e683-8f1fb5277f54"
      },
      "execution_count": 27,
      "outputs": [
        {
          "output_type": "stream",
          "name": "stdout",
          "text": [
            "+-----+\n",
            "|price|\n",
            "+-----+\n",
            "|  148|\n",
            "|   31|\n",
            "|  516|\n",
            "|   85|\n",
            "|  137|\n",
            "|   65|\n",
            "|   53|\n",
            "|  133|\n",
            "|   78|\n",
            "|  513|\n",
            "|  108|\n",
            "|  155|\n",
            "|   34|\n",
            "|  211|\n",
            "|  193|\n",
            "|  126|\n",
            "|  115|\n",
            "|  101|\n",
            "|   81|\n",
            "|   28|\n",
            "+-----+\n",
            "only showing top 20 rows\n",
            "\n"
          ]
        }
      ]
    },
    {
      "cell_type": "code",
      "source": [
        "# Remove all records that exists their duplicated in all the field \"insect_name\", \"price\" and \"crown\"\n",
        "insect_no_fields = insect_df.select('insect_name', 'price', 'crown').dropDuplicates()\n",
        "insect_no_fields.show(4)"
      ],
      "metadata": {
        "colab": {
          "base_uri": "https://localhost:8080/"
        },
        "id": "yFLqkxCzbo75",
        "outputId": "cbe387bf-d2e2-45c1-b405-9955e49fedc4"
      },
      "execution_count": 28,
      "outputs": [
        {
          "output_type": "stream",
          "name": "stdout",
          "text": [
            "+----------------+-----+-----+\n",
            "|     insect_name|price|crown|\n",
            "+----------------+-----+-----+\n",
            "|than lan bao dom|   93|    1|\n",
            "|      buom trang|  121|    1|\n",
            "|       chau chau|  135|    1|\n",
            "|      tac ke mao|  206|    1|\n",
            "+----------------+-----+-----+\n",
            "only showing top 4 rows\n",
            "\n"
          ]
        }
      ]
    },
    {
      "cell_type": "code",
      "source": [
        "# Remove all records that exists their duplicated in general\n",
        "insect_no_dup = insect_df.dropDuplicates()\n",
        "insect_no_dup.show(6)"
      ],
      "metadata": {
        "colab": {
          "base_uri": "https://localhost:8080/"
        },
        "id": "AwxGnhqacPZB",
        "outputId": "3c14f5e8-2a89-4189-b2a6-be3a972bc856"
      },
      "execution_count": 29,
      "outputs": [
        {
          "output_type": "stream",
          "name": "stdout",
          "text": [
            "+--------+--------------------+-----+-----+--------+----------------+----+\n",
            "|insectID|         insect_name|price|crown|location|     date_caught|pole|\n",
            "+--------+--------------------+-----+-----+--------+----------------+----+\n",
            "|     261|           chau chau|  122|    1|hometown|10/17/2023 23:48|DARK|\n",
            "|     255|             cao cao|  129|    1|hometown|10/17/2023 23:46|DARK|\n",
            "|     296|             de nhat|   44|    1|    city| 10/18/2023 0:05|DARK|\n",
            "|      98|chau chau canh thang|   62|    1|hometown|10/17/2023 16:47|DARK|\n",
            "|      80|             bo hung|  173|    1|   plaza|10/17/2023 16:38|DARK|\n",
            "|     291|     buom dem van ho|   49|    1|   plaza| 10/18/2023 0:03|DARK|\n",
            "+--------+--------------------+-----+-----+--------+----------------+----+\n",
            "only showing top 6 rows\n",
            "\n"
          ]
        }
      ]
    },
    {
      "cell_type": "markdown",
      "source": [
        "#### withColumnRenamed() – **Rename a column (Transformations)**"
      ],
      "metadata": {
        "id": "w4TIV7KudH3K"
      }
    },
    {
      "cell_type": "code",
      "source": [
        "# Insect dataset but with 'insect_name' changed to 'type_of_insect' and 'pole' changed to 'stick'\n",
        "insect_renamed = insect_df.withColumnRenamed('insect_name', 'type_of_insect')\n",
        "insect_renamed = insect_renamed.withColumnRenamed('pole', 'stick')\n",
        "insect_renamed.show(3)"
      ],
      "metadata": {
        "colab": {
          "base_uri": "https://localhost:8080/"
        },
        "id": "vsZDKjZYcUcp",
        "outputId": "ccef2c76-23f8-4da4-ba77-24fb08a02129"
      },
      "execution_count": 30,
      "outputs": [
        {
          "output_type": "stream",
          "name": "stdout",
          "text": [
            "+--------+--------------+-----+-----+--------+----------------+-----+\n",
            "|insectID|type_of_insect|price|crown|location|     date_caught|stick|\n",
            "+--------+--------------+-----+-----+--------+----------------+-----+\n",
            "|       1|  nhen thay ma|   30| NULL|   plaza|10/17/2023 12:12| DARK|\n",
            "|       2|    buom trang|   68| NULL|   plaza|10/17/2023 12:12| DARK|\n",
            "|       3|  hop tien sao|  100| NULL|    camp|10/17/2023 14:42| DARK|\n",
            "+--------+--------------+-----+-----+--------+----------------+-----+\n",
            "only showing top 3 rows\n",
            "\n"
          ]
        }
      ]
    },
    {
      "cell_type": "markdown",
      "source": [
        "#### printSchema() - **Print the type and name of all columns**"
      ],
      "metadata": {
        "id": "gXSHO2cXd8li"
      }
    },
    {
      "cell_type": "code",
      "source": [
        "insect_df.printSchema()"
      ],
      "metadata": {
        "colab": {
          "base_uri": "https://localhost:8080/"
        },
        "id": "x4AiNIOleGbT",
        "outputId": "835c3c46-fd55-4e09-f2a7-b66bef331c8d"
      },
      "execution_count": 31,
      "outputs": [
        {
          "output_type": "stream",
          "name": "stdout",
          "text": [
            "root\n",
            " |-- insectID: integer (nullable = true)\n",
            " |-- insect_name: string (nullable = true)\n",
            " |-- price: integer (nullable = true)\n",
            " |-- crown: integer (nullable = true)\n",
            " |-- location: string (nullable = true)\n",
            " |-- date_caught: string (nullable = true)\n",
            " |-- pole: string (nullable = true)\n",
            "\n"
          ]
        }
      ]
    },
    {
      "cell_type": "markdown",
      "source": [
        "#### orderby() – **Like ORDER BY, but stored in a variable (Transformations)**"
      ],
      "metadata": {
        "id": "ugMhINKAeRcb"
      }
    },
    {
      "cell_type": "code",
      "source": [
        "# Show the dataset but in ascending 'price' order\n",
        "insect_price_ascending = insect_df.orderBy('price')\n",
        "insect_price_ascending.show(3)"
      ],
      "metadata": {
        "colab": {
          "base_uri": "https://localhost:8080/"
        },
        "id": "4US64GQ7ewfl",
        "outputId": "1a66d021-2515-42d5-8114-58b9110c8d07"
      },
      "execution_count": 32,
      "outputs": [
        {
          "output_type": "stream",
          "name": "stdout",
          "text": [
            "+--------+--------------------+-----+-----+--------+----------------+----+\n",
            "|insectID|         insect_name|price|crown|location|     date_caught|pole|\n",
            "+--------+--------------------+-----+-----+--------+----------------+----+\n",
            "|    1138|          buom trang|    0| NULL|    camp|10/19/2023 12:50|NULL|\n",
            "|      22|              oc sen|   20| NULL|hometown|10/17/2023 14:54|DARK|\n",
            "|      33|bo canh cung xanh la|   20| NULL|   plaza|10/17/2023 15:00|DARK|\n",
            "+--------+--------------------+-----+-----+--------+----------------+----+\n",
            "only showing top 3 rows\n",
            "\n"
          ]
        }
      ]
    },
    {
      "cell_type": "code",
      "source": [
        "# Show the dataset but in descending 'price' order\n",
        "insect_price_descending = insect_df.orderBy('price', ascending=False)\n",
        "insect_price_descending.show(3)"
      ],
      "metadata": {
        "colab": {
          "base_uri": "https://localhost:8080/"
        },
        "id": "mxTQ-qe7e_oa",
        "outputId": "d171aef6-31ef-429b-e82c-e8aa9e467208"
      },
      "execution_count": 33,
      "outputs": [
        {
          "output_type": "stream",
          "name": "stdout",
          "text": [
            "+--------+--------------------+-----+-----+--------+----------------+----+\n",
            "|insectID|         insect_name|price|crown|location|     date_caught|pole|\n",
            "+--------+--------------------+-----+-----+--------+----------------+----+\n",
            "|     715| buom phuong machaon|  532|    1|hometown|10/18/2023 23:16|NULL|\n",
            "|    2639|bo ngua chua thay ma|  520|    1|hometown|10/23/2023 15:44|NULL|\n",
            "|    4448|bo canh cung khon...|  516| NULL|    camp|11/27/2023 18:49|NULL|\n",
            "+--------+--------------------+-----+-----+--------+----------------+----+\n",
            "only showing top 3 rows\n",
            "\n"
          ]
        }
      ]
    },
    {
      "cell_type": "markdown",
      "source": [
        "#### columns – **Return the name of all columns**"
      ],
      "metadata": {
        "id": "jNe59FFSf15M"
      }
    },
    {
      "cell_type": "code",
      "source": [
        "# Show column names\n",
        "insect_df.columns"
      ],
      "metadata": {
        "colab": {
          "base_uri": "https://localhost:8080/"
        },
        "id": "2fqzSSgdfN9R",
        "outputId": "051cc84c-ce68-43bd-d34c-9403922e2769"
      },
      "execution_count": 34,
      "outputs": [
        {
          "output_type": "execute_result",
          "data": {
            "text/plain": [
              "['insectID',\n",
              " 'insect_name',\n",
              " 'price',\n",
              " 'crown',\n",
              " 'location',\n",
              " 'date_caught',\n",
              " 'pole']"
            ]
          },
          "metadata": {},
          "execution_count": 34
        }
      ]
    },
    {
      "cell_type": "code",
      "source": [
        "insect_renamed.columns"
      ],
      "metadata": {
        "colab": {
          "base_uri": "https://localhost:8080/"
        },
        "id": "tiNV_qCPf9Fh",
        "outputId": "6c60409c-34e2-4bdb-e77e-05af92487732"
      },
      "execution_count": 35,
      "outputs": [
        {
          "output_type": "execute_result",
          "data": {
            "text/plain": [
              "['insectID',\n",
              " 'type_of_insect',\n",
              " 'price',\n",
              " 'crown',\n",
              " 'location',\n",
              " 'date_caught',\n",
              " 'stick']"
            ]
          },
          "metadata": {},
          "execution_count": 35
        }
      ]
    },
    {
      "cell_type": "markdown",
      "source": [
        "#### describe() - **Exactly the same as \"describe\" in Python Pandas, which shows summary of numeric columns**"
      ],
      "metadata": {
        "id": "3pWwDs9fgReT"
      }
    },
    {
      "cell_type": "code",
      "source": [
        "# Show numeric descriptions\n",
        "insect_df.describe()"
      ],
      "metadata": {
        "colab": {
          "base_uri": "https://localhost:8080/"
        },
        "id": "u11lyiiigA_x",
        "outputId": "9cec7f76-976f-498c-fd93-7fee626a6afd"
      },
      "execution_count": 36,
      "outputs": [
        {
          "output_type": "execute_result",
          "data": {
            "text/plain": [
              "DataFrame[summary: string, insectID: string, insect_name: string, price: string, crown: string, location: string, date_caught: string, pole: string]"
            ]
          },
          "metadata": {},
          "execution_count": 36
        }
      ]
    },
    {
      "cell_type": "markdown",
      "source": [
        "In this case, all the columns are *string-typed* due to the lack of data cleaning, so the \"**describe**\" display nothing here."
      ],
      "metadata": {
        "id": "DfNAlPE2grC9"
      }
    },
    {
      "cell_type": "markdown",
      "source": [
        "#### Executing SQL queries using sql()"
      ],
      "metadata": {
        "id": "Nlu58BnaD6nZ"
      }
    },
    {
      "cell_type": "markdown",
      "source": [
        "*Method 1: Execute the query directly*"
      ],
      "metadata": {
        "id": "AKnnfbLvIl63"
      }
    },
    {
      "cell_type": "code",
      "source": [
        "insect_df.createOrReplaceTempView(\"insect_table\")"
      ],
      "metadata": {
        "id": "4LDH_-9-EFJ0"
      },
      "execution_count": 38,
      "outputs": []
    },
    {
      "cell_type": "code",
      "source": [
        "# Select the entire table\n",
        "insect_sql1 = spark.sql(\"SELECT * FROM insect_table\")\n",
        "insect_sql1.show(5)"
      ],
      "metadata": {
        "colab": {
          "base_uri": "https://localhost:8080/"
        },
        "id": "e3HCw5FTEQ3V",
        "outputId": "e273d8b1-b85e-4e17-dcfe-e372c355c765"
      },
      "execution_count": 40,
      "outputs": [
        {
          "output_type": "stream",
          "name": "stdout",
          "text": [
            "+--------+---------------+-----+-----+--------+----------------+----+\n",
            "|insectID|    insect_name|price|crown|location|     date_caught|pole|\n",
            "+--------+---------------+-----+-----+--------+----------------+----+\n",
            "|       1|   nhen thay ma|   30| NULL|   plaza|10/17/2023 12:12|DARK|\n",
            "|       2|     buom trang|   68| NULL|   plaza|10/17/2023 12:12|DARK|\n",
            "|       3|   hop tien sao|  100| NULL|    camp|10/17/2023 14:42|DARK|\n",
            "|       4|bo hung thay ma|   62| NULL|    camp|10/17/2023 14:48|DARK|\n",
            "|       5|            ran|   20| NULL|    camp|10/17/2023 14:48|DARK|\n",
            "+--------+---------------+-----+-----+--------+----------------+----+\n",
            "only showing top 5 rows\n",
            "\n"
          ]
        }
      ]
    },
    {
      "cell_type": "code",
      "source": [
        "# Select 10 records with highest price\n",
        "insect_sql2 = spark.sql(\"SELECT * FROM insect_table ORDER BY price DESC\")\n",
        "insect_sql2.show(10)"
      ],
      "metadata": {
        "colab": {
          "base_uri": "https://localhost:8080/"
        },
        "id": "4u585n1CEhSc",
        "outputId": "b5aaecab-c054-45b5-e3a3-ee00c4885235"
      },
      "execution_count": 43,
      "outputs": [
        {
          "output_type": "stream",
          "name": "stdout",
          "text": [
            "+--------+--------------------+-----+-----+--------+----------------+----+\n",
            "|insectID|         insect_name|price|crown|location|     date_caught|pole|\n",
            "+--------+--------------------+-----+-----+--------+----------------+----+\n",
            "|     715| buom phuong machaon|  532|    1|hometown|10/18/2023 23:16|NULL|\n",
            "|    2639|bo ngua chua thay ma|  520|    1|hometown|10/23/2023 15:44|NULL|\n",
            "|    4448|bo canh cung khon...|  516| NULL|    camp|11/27/2023 18:49|NULL|\n",
            "|    3444| buom phuong machaon|  513|    1|   plaza| 10/26/2023 2:40|NULL|\n",
            "|    1060|          tac ke hoa|  512| NULL|    camp|10/19/2023 12:20|NULL|\n",
            "|    2073|chuon chuon ngo h...|  510|    1|hometown|10/22/2023 10:15|NULL|\n",
            "|    3171|      bo odontolabis|  509|    1|    camp|10/24/2023 17:28|NULL|\n",
            "|    4049|        bo ngua chua|  508|    1|    camp|10/31/2023 17:31|NULL|\n",
            "|     182|        buom thay ma|  504| NULL|   plaza|10/17/2023 17:20|DARK|\n",
            "|     877|        bo ngua chua|  503|    1|hometown| 10/19/2023 1:46|NULL|\n",
            "+--------+--------------------+-----+-----+--------+----------------+----+\n",
            "only showing top 10 rows\n",
            "\n"
          ]
        }
      ]
    },
    {
      "cell_type": "code",
      "source": [
        "# Select all records that has location \"camp\", with price higher than 400 but lower than 450\n",
        "insect_sql3 = spark.sql(\"SELECT * FROM insect_table WHERE location = 'camp' and price > 400 and price < 450\")\n",
        "insect_sql3.show()"
      ],
      "metadata": {
        "colab": {
          "base_uri": "https://localhost:8080/"
        },
        "id": "qq-OqkvCFUnd",
        "outputId": "0cfa050a-f732-4342-d436-2e852796c446"
      },
      "execution_count": 45,
      "outputs": [
        {
          "output_type": "stream",
          "name": "stdout",
          "text": [
            "+--------+----------------+-----+-----+--------+----------------+----+\n",
            "|insectID|     insect_name|price|crown|location|     date_caught|pole|\n",
            "+--------+----------------+-----+-----+--------+----------------+----+\n",
            "|    4470|than lan co diem|  422| NULL|    camp|11/27/2023 19:12|NULL|\n",
            "+--------+----------------+-----+-----+--------+----------------+----+\n",
            "\n"
          ]
        }
      ]
    },
    {
      "cell_type": "code",
      "source": [
        "# Select the sum, average, max, min of price for each location group\n",
        "insect_sql4 = spark.sql(\"SELECT location, SUM(price), ROUND(AVG(price), 3), MAX(price), MIN(price) FROM insect_table GROUP BY location\")\n",
        "insect_sql4.show()"
      ],
      "metadata": {
        "colab": {
          "base_uri": "https://localhost:8080/"
        },
        "id": "1cD12e4xFzsM",
        "outputId": "442cbfe7-934f-4b31-a985-8342a7a2448a"
      },
      "execution_count": 52,
      "outputs": [
        {
          "output_type": "stream",
          "name": "stdout",
          "text": [
            "+--------+----------+--------------------+----------+----------+\n",
            "|location|sum(price)|round(avg(price), 3)|max(price)|min(price)|\n",
            "+--------+----------+--------------------+----------+----------+\n",
            "|hometown|     78065|              63.211|       532|        20|\n",
            "|   sewer|     24998|              59.661|       170|        20|\n",
            "|    camp|     49938|              63.615|       516|         0|\n",
            "|    city|     77453|              62.817|       500|        20|\n",
            "|   plaza|     53072|              65.279|       513|        20|\n",
            "+--------+----------+--------------------+----------+----------+\n",
            "\n"
          ]
        }
      ]
    },
    {
      "cell_type": "markdown",
      "source": [
        "*Method 2: Execute the query as a variable*"
      ],
      "metadata": {
        "id": "dP3aq7xeIvc2"
      }
    },
    {
      "cell_type": "code",
      "source": [
        "insect_df.createOrReplaceTempView(\"insect_table\") #-> this is a MUST, before write any SQL queries in Spark"
      ],
      "metadata": {
        "id": "dYQXqv-uHtyH"
      },
      "execution_count": 54,
      "outputs": []
    },
    {
      "cell_type": "code",
      "source": [
        "# Select all records that has location \"camp\", with price higher than 400 but lower than 450\n",
        "query1 = '''SELECT * FROM insect_table WHERE location = 'camp' and price > 400 and price < 450'''\n",
        "spark.sql(query1).show()"
      ],
      "metadata": {
        "colab": {
          "base_uri": "https://localhost:8080/"
        },
        "id": "C219u8eFI8JN",
        "outputId": "0a0ac490-eaaf-41b9-ca5f-e0b5b0364e12"
      },
      "execution_count": 55,
      "outputs": [
        {
          "output_type": "stream",
          "name": "stdout",
          "text": [
            "+--------+----------------+-----+-----+--------+----------------+----+\n",
            "|insectID|     insect_name|price|crown|location|     date_caught|pole|\n",
            "+--------+----------------+-----+-----+--------+----------------+----+\n",
            "|    4470|than lan co diem|  422| NULL|    camp|11/27/2023 19:12|NULL|\n",
            "+--------+----------------+-----+-----+--------+----------------+----+\n",
            "\n"
          ]
        }
      ]
    },
    {
      "cell_type": "code",
      "source": [
        "# Select the sum, average, max, min of price for each location group\n",
        "query2 = '''SELECT location, SUM(price), ROUND(AVG(price), 3), MAX(price), MIN(price) FROM insect_table GROUP BY location'''\n",
        "spark.sql(query2).show()"
      ],
      "metadata": {
        "colab": {
          "base_uri": "https://localhost:8080/"
        },
        "id": "6EVjndkjJN6k",
        "outputId": "9b6632b0-ca1a-45b6-975e-11a1e21f4988"
      },
      "execution_count": 56,
      "outputs": [
        {
          "output_type": "stream",
          "name": "stdout",
          "text": [
            "+--------+----------+--------------------+----------+----------+\n",
            "|location|sum(price)|round(avg(price), 3)|max(price)|min(price)|\n",
            "+--------+----------+--------------------+----------+----------+\n",
            "|hometown|     78065|              63.211|       532|        20|\n",
            "|   sewer|     24998|              59.661|       170|        20|\n",
            "|    camp|     49938|              63.615|       516|         0|\n",
            "|    city|     77453|              62.817|       500|        20|\n",
            "|   plaza|     53072|              65.279|       513|        20|\n",
            "+--------+----------+--------------------+----------+----------+\n",
            "\n"
          ]
        }
      ]
    },
    {
      "cell_type": "code",
      "source": [
        "# Select the top 3 highest price records from every location group\n",
        "query3 = '''WITH tab AS(\n",
        "  SELECT RANK() OVER (PARTITION BY location ORDER BY price DESC) AS Ranking, * FROM insect_table\n",
        ")\n",
        "SELECT * FROM tab\n",
        "WHERE Ranking <= 3\n",
        "'''\n",
        "spark.sql(query3).show()"
      ],
      "metadata": {
        "colab": {
          "base_uri": "https://localhost:8080/"
        },
        "id": "kVyf0OIOJVdU",
        "outputId": "bfb66439-66e0-487d-c6bd-fc96929b00c2"
      },
      "execution_count": 57,
      "outputs": [
        {
          "output_type": "stream",
          "name": "stdout",
          "text": [
            "+-------+--------+--------------------+-----+-----+--------+----------------+----+\n",
            "|Ranking|insectID|         insect_name|price|crown|location|     date_caught|pole|\n",
            "+-------+--------+--------------------+-----+-----+--------+----------------+----+\n",
            "|      1|    4448|bo canh cung khon...|  516| NULL|    camp|11/27/2023 18:49|NULL|\n",
            "|      2|    1060|          tac ke hoa|  512| NULL|    camp|10/19/2023 12:20|NULL|\n",
            "|      3|    3171|      bo odontolabis|  509|    1|    camp|10/24/2023 17:28|NULL|\n",
            "|      1|    3271|chuon chuon ngo h...|  500|    1|    city|10/25/2023 15:24|NULL|\n",
            "|      2|    4007|bo ngua hoa phong...|  487| NULL|    city|10/31/2023 17:27|NULL|\n",
            "|      3|    2663|    than lan co diem|  363| NULL|    city|10/23/2023 15:52|NULL|\n",
            "|      1|     715| buom phuong machaon|  532|    1|hometown|10/18/2023 23:16|NULL|\n",
            "|      2|    2639|bo ngua chua thay ma|  520|    1|hometown|10/23/2023 15:44|NULL|\n",
            "|      3|    2073|chuon chuon ngo h...|  510|    1|hometown|10/22/2023 10:15|NULL|\n",
            "|      1|    3444| buom phuong machaon|  513|    1|   plaza| 10/26/2023 2:40|NULL|\n",
            "|      2|     182|        buom thay ma|  504| NULL|   plaza|10/17/2023 17:20|DARK|\n",
            "|      3|     570|chuon chuon duoi ...|  495| NULL|   plaza|10/18/2023 15:15|NULL|\n",
            "|      1|    1547|        hop tien sao|  170| NULL|   sewer|10/20/2023 23:24|NULL|\n",
            "|      1|    3851|        hop tien sao|  170| NULL|   sewer|10/27/2023 16:29|NULL|\n",
            "|      3|    4207|    buom dem thay ma|  149|    1|   sewer| 11/5/2023 21:40|NULL|\n",
            "+-------+--------+--------------------+-----+-----+--------+----------------+----+\n",
            "\n"
          ]
        }
      ]
    }
  ]
}